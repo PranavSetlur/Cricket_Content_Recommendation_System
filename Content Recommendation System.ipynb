{
 "cells": [
  {
   "cell_type": "markdown",
   "id": "b1585265",
   "metadata": {},
   "source": [
    "# Cricket Content Recommendation System"
   ]
  },
  {
   "cell_type": "markdown",
   "id": "b6fa407b",
   "metadata": {},
   "source": [
    "### 1) Scraping ESPN Cricinfo - DO NOT RUN"
   ]
  },
  {
   "cell_type": "code",
   "execution_count": 2,
   "id": "72739247",
   "metadata": {},
   "outputs": [],
   "source": [
    "import requests\n",
    "from bs4 import BeautifulSoup\n",
    "import pandas as pd"
   ]
  },
  {
   "cell_type": "code",
   "execution_count": 5,
   "id": "8a74656e",
   "metadata": {},
   "outputs": [],
   "source": [
    "def get_articles(url, base_url = None, start_page = 1, num_pages = 1):\n",
    "    articles = []\n",
    "    for page_num in range(start_page, start_page + num_pages + 1):\n",
    "        if page_num % 10 == 0:\n",
    "            print(page_num)\n",
    "        new_url = f\"{url}?page={page_num}\"\n",
    "        response = requests.get(new_url)\n",
    "        soup = BeautifulSoup(response.content, 'html.parser')\n",
    "        \n",
    "        page_articles = scrape_page(soup, base_url)\n",
    "        articles.extend(page_articles)\n",
    "    \n",
    "    return articles\n",
    "\n",
    "def scrape_page(soup, base_url = None):\n",
    "    articles = []\n",
    "    titles = []\n",
    "    urls = []\n",
    "    summaries = []\n",
    "    dates = []\n",
    "    \n",
    "    # getting title and link\n",
    "    for article in soup.find_all('h2', class_ = 'ds-text-title-s ds-font-bold ds-text-typo'):\n",
    "        #print(article)\n",
    "        title = article.text.strip()\n",
    "        titles.append(title)\n",
    "\n",
    "    \n",
    "        link_tag = article.find_parent('a')\n",
    "        link = link_tag['href'] if link_tag else \"\"\n",
    "        if base_url:\n",
    "            link = base_url + link\n",
    "        urls.append(link)\n",
    "        \n",
    "    \n",
    "    # getting summaries\n",
    "    for article in soup.find_all('p', class_ = 'ds-text-compact-s ds-text-typo-mid2 ds-mt-1'):\n",
    "        #print(article)\n",
    "        summary = article.text.strip()\n",
    "        summaries.append(summary)\n",
    "        \n",
    "    #getting publication date\n",
    "    for article in soup.find_all('div', class_ = 'ds-leading-[0] ds-text-typo-mid3 ds-mt-1'):\n",
    "        #print((article.text.split())[0])\n",
    "        date_text = article.text.strip()\n",
    "        date = date_text.split('•')[0]\n",
    "        dates.append(date)\n",
    "        \n",
    "    for title, url, summary, date in zip(titles, urls, summaries, dates):\n",
    "        articles.append({\n",
    "          'title': title,\n",
    "          'link': url,\n",
    "          'summary': summary,\n",
    "          'date': date\n",
    "        })\n",
    "    \n",
    "    return articles    "
   ]
  },
  {
   "cell_type": "code",
   "execution_count": 78,
   "id": "fa8c7ce4",
   "metadata": {},
   "outputs": [],
   "source": [
    "url = 'https://www.espncricinfo.com/ci/content/story/news.html'\n",
    "base_url = 'https://www.espncricinfo.com'\n",
    "#url = 'https://www.espncricinfo.com/cricket-news'\n",
    "articles = get_articles(url, base_url, 1, 1000)"
   ]
  },
  {
   "cell_type": "code",
   "execution_count": 79,
   "id": "84d9a890",
   "metadata": {},
   "outputs": [
    {
     "name": "stdout",
     "output_type": "stream",
     "text": [
      "19992\n"
     ]
    },
    {
     "data": {
      "text/plain": [
       "[{'title': \"Green confident of 'plugging holes' with versatile role for Australia\",\n",
       "  'link': 'https://www.espncricinfo.com/story/t20-world-cup-2024-australia-s-cameron-green-confident-of-plugging-holes-with-versatile-role-1436699',\n",
       "  'summary': 'The allrounder may not make the Australia XI initially but could potentially squeeze Marcus Stoinis out of the side',\n",
       "  'date': '04-Jun-2024'},\n",
       " {'title': 'New Zealand battle rain and jetlag ahead of crunch World Cup opener',\n",
       "  'link': 'https://www.espncricinfo.com/story/t20-world-cup-2024-new-zealand-battle-rain-and-jetlag-ahead-of-crunch-world-cup-opener-1436685',\n",
       "  'summary': \"Coach Gary Stead hopes the team's late start to the tournament will enable them to learn about conditions\",\n",
       "  'date': '04-Jun-2024'},\n",
       " {'title': 'Gurbaz, Ibrahim and Farooqi hand Uganda a thrashing',\n",
       "  'link': 'https://www.espncricinfo.com/series/icc-men-s-t20-world-cup-2024-1411166/afghanistan-vs-uganda-5th-match-group-c-1415705/match-report',\n",
       "  'summary': 'Gurbaz and Ibrahim added a 154-run opening stand, while Farooqi claimed a five-for, as Afghanistan started their World Cup campaign with a bang',\n",
       "  'date': '04-Jun-2024'},\n",
       " {'title': \"Nortje: Don't need 20 sixes to make an entertaining game\",\n",
       "  'link': 'https://www.espncricinfo.com/story/anrich-nortje-don-t-need-20-sixes-to-make-an-entertaining-game-1436627',\n",
       "  'summary': 'The South Africa quick defended conditions at the new stadium but Heinrich Klaasen did not think they were ideal for T20',\n",
       "  'date': '03-Jun-2024'},\n",
       " {'title': 'Sydney Thunder keep Trevor Bayliss on as coach for another BBL campaign',\n",
       "  'link': 'https://www.espncricinfo.com/story/sydney-thunder-keep-trevor-bayliss-on-as-coach-for-another-bbl-campaign-1436626',\n",
       "  'summary': 'The club finished bottom last season with just one win in 10 matches',\n",
       "  'date': '03-Jun-2024'},\n",
       " {'title': \"'So unfair' - Sri Lanka, given a raw scheduling deal, struggle to find their bearings\",\n",
       "  'link': 'https://www.espncricinfo.com/story/t20-world-cup-2024-wanindu-hasaranga-and-maheesh-theekshana-open-up-on-the-raw-deal-sri-lanka-have-been-given-1436615',\n",
       "  'summary': \"Delayed flights, matches at different venues, hotels far from the game venues have made life difficult for Hasaranga's team\",\n",
       "  'date': '03-Jun-2024'},\n",
       " {'title': \"Matthew Cross: 'We've got four games, and we've got to win four games'\",\n",
       "  'link': 'https://www.espncricinfo.com/story/eng-vs-sco-t20-world-cup-matthew-cross-targetting-four-wins-for-scotland-1436611',\n",
       "  'summary': 'Scotland vice-captain a fan of tweaked format that gives smaller sides a better chance',\n",
       "  'date': '03-Jun-2024'},\n",
       " {'title': 'From punter to protagonist - Phil Salt returns to Kensington Oval',\n",
       "  'link': 'https://www.espncricinfo.com/story/eng-vs-sco-t20-world-cup-2024-from-punter-to-protagonist-phil-salt-returns-to-kensington-oval-1436603',\n",
       "  'summary': \"In the stands for England's 2010 triumph, the opener is now integral to their World Cup defence 14 years on\",\n",
       "  'date': '03-Jun-2024'},\n",
       " {'title': 'Dravid confirms he will not re-apply for India head coach position',\n",
       "  'link': 'https://www.espncricinfo.com/story/t20-world-cup-2024-rahul-dravid-confirms-he-will-not-re-apply-for-india-head-coach-position-1436607',\n",
       "  'summary': 'He has confirmed that the ongoing T20 World Cup will be his last tournament in the role',\n",
       "  'date': '03-Jun-2024'},\n",
       " {'title': \"Anrich Nortje's 4 for 7 sets up South Africa win on tricky New York pitch\",\n",
       "  'link': 'https://www.espncricinfo.com/series/icc-men-s-t20-world-cup-2024-1411166/south-africa-vs-sri-lanka-4th-match-group-d-1415704/match-report',\n",
       "  'summary': 'The up-and-down surface meant the target of 78 was no walk in the park for South Africa, but they eventually got there in the 17th over',\n",
       "  'date': '03-Jun-2024'},\n",
       " {'title': 'England and Scotland grudge match set to break new ground',\n",
       "  'link': 'https://www.espncricinfo.com/series/icc-men-s-t20-world-cup-2024-1411166/england-vs-scotland-6th-match-group-b-1415706/match-preview',\n",
       "  'summary': \"Used Kensington Oval surface could be a leveller in first T20 meeting between 'Auld Enemies'\",\n",
       "  'date': '03-Jun-2024'},\n",
       " {'title': 'Essex charged by Cricket Regulator following historic racist abuse claims',\n",
       "  'link': 'https://www.espncricinfo.com/story/essex-charged-by-cricket-regulator-following-historic-racist-abuse-claims-1436573',\n",
       "  'summary': 'Club found to be in breach of ECB Directive 3.3 during period from 2001 to 2010',\n",
       "  'date': '03-Jun-2024'},\n",
       " {'title': 'Netherlands vs Nepal - the one match neither team can afford to lose',\n",
       "  'link': 'https://www.espncricinfo.com/series/icc-men-s-t20-world-cup-2024-1411166/nepal-vs-netherlands-7th-match-group-d-1415707/match-preview',\n",
       "  'summary': \"Both teams have exciting cricketers, their head-to-head record is almost dead even, and with higher-ranked teams in their group, this is a game they can't lose\",\n",
       "  'date': '03-Jun-2024'},\n",
       " {'title': \"England have 'no preconceived ideas' about used Barbados pitch\",\n",
       "  'link': 'https://www.espncricinfo.com/story/t20-world-cup-2024-england-to-face-scotland-on-used-pitch-1436552',\n",
       "  'summary': \"Defending champions will start T20 World Cup against Scotland on strip used for Namibia's low-scoring shoot-out against Oman\",\n",
       "  'date': '03-Jun-2024'},\n",
       " {'title': 'T20 World Cup 2024 winners to win at least USD 2.45 million',\n",
       "  'link': 'https://www.espncricinfo.com/story/t20-world-cup-2024-icc-announces-record-prize-money-1436524',\n",
       "  'summary': 'The total prize money for the tournament has more than doubled, from $5.6 million in 2022 to $11.25 million this year',\n",
       "  'date': '03-Jun-2024'},\n",
       " {'title': 'Kedar Jadhav announces retirement from all forms of cricket',\n",
       "  'link': 'https://www.espncricinfo.com/story/india-news-kedar-jadhav-announces-retirement-from-all-forms-of-cricket-1436463',\n",
       "  'summary': 'He played 73 ODIs and nine T20Is for India after making his international debut in 2014',\n",
       "  'date': '03-Jun-2024'},\n",
       " {'title': \"PCB to launch domestic 'Pentangular' tournament across formats next season\",\n",
       "  'link': 'https://www.espncricinfo.com/story/pakistan-news-pcb-to-launch-domestic-pentangular-tournament-across-formats-from-next-season-1436453',\n",
       "  'summary': 'The five-team tournaments will feature the top 150 players in the country, and each tournament will be in addition to the existing tournament in the format',\n",
       "  'date': '03-Jun-2024'},\n",
       " {'title': \"'We carry a whole country's hopes on our backs,' says Uganda captain Brian Masaba\",\n",
       "  'link': 'https://www.espncricinfo.com/story/t20-world-cup-2024-uganda-captain-brian-masaba-we-carry-whole-country-s-hopes-on-our-backs-1436379',\n",
       "  'summary': 'The match against Afghanistan will be their first in a World Cup, be it T20 or ODI',\n",
       "  'date': '03-Jun-2024'},\n",
       " {'title': 'How Oman turned it around in the last three overs for a Super Over',\n",
       "  'link': 'https://www.espncricinfo.com/story/t20-world-cup-2024-how-oman-turned-it-around-in-the-last-three-overs-for-a-super-over-1436375',\n",
       "  'summary': \"Namibia needed a comfortable 18 runs to win off 18 balls but couldn't do it. Here's how the action unfolded in the last three overs of the chase\",\n",
       "  'date': '03-Jun-2024'},\n",
       " {'title': 'Rashid: We have the batting line-up to chase down 200',\n",
       "  'link': 'https://www.espncricinfo.com/story/t20-world-cup-2024-rashid-khan-we-have-batting-line-up-that-can-chase-down-even-200-1436370',\n",
       "  'summary': 'The Afghanistan captain says they are no longer reliant only on their spinners',\n",
       "  'date': '03-Jun-2024'}]"
      ]
     },
     "metadata": {},
     "output_type": "display_data"
    }
   ],
   "source": [
    "print(len(articles))\n",
    "display(articles[100:120])"
   ]
  },
  {
   "cell_type": "code",
   "execution_count": 80,
   "id": "1dbeda3e",
   "metadata": {},
   "outputs": [],
   "source": [
    "articles_df = pd.DataFrame(articles)\n",
    "articles_df.to_csv('cricinfo_articles.csv', index = False)"
   ]
  },
  {
   "cell_type": "code",
   "execution_count": 8,
   "id": "30fc02ff",
   "metadata": {
    "scrolled": true
   },
   "outputs": [
    {
     "name": "stdout",
     "output_type": "stream",
     "text": [
      "1010\n",
      "1020\n",
      "1030\n",
      "1040\n",
      "1050\n",
      "1060\n",
      "1070\n",
      "1080\n",
      "1090\n",
      "1100\n",
      "1110\n",
      "1120\n",
      "1130\n",
      "1140\n",
      "1150\n",
      "1160\n",
      "1170\n",
      "1180\n",
      "1190\n",
      "1200\n",
      "1210\n",
      "1220\n",
      "1230\n",
      "1240\n",
      "1250\n",
      "1260\n",
      "1270\n",
      "1280\n",
      "1290\n",
      "1300\n"
     ]
    }
   ],
   "source": [
    "url = 'https://www.espncricinfo.com/ci/content/story/news.html'\n",
    "base_url = 'https://www.espncricinfo.com'\n",
    "more_articles = get_articles(url, base_url, 1001, 300)"
   ]
  },
  {
   "cell_type": "code",
   "execution_count": 9,
   "id": "2d6a935c",
   "metadata": {},
   "outputs": [],
   "source": [
    "more_articles_df = pd.DataFrame(more_articles)\n",
    "more_articles_df.to_csv('cricinfo_articles_2.csv', index = False)"
   ]
  },
  {
   "cell_type": "code",
   "execution_count": 10,
   "id": "a598ba97",
   "metadata": {},
   "outputs": [
    {
     "name": "stdout",
     "output_type": "stream",
     "text": [
      "6000\n"
     ]
    }
   ],
   "source": [
    "print(len(more_articles))"
   ]
  },
  {
   "cell_type": "code",
   "execution_count": 11,
   "id": "1d506233",
   "metadata": {},
   "outputs": [
    {
     "name": "stdout",
     "output_type": "stream",
     "text": [
      "1310\n",
      "1320\n",
      "1330\n",
      "1340\n",
      "1350\n",
      "1360\n",
      "1370\n",
      "1380\n",
      "1390\n",
      "1400\n",
      "1410\n",
      "1420\n",
      "1430\n",
      "1440\n",
      "1450\n",
      "1460\n",
      "1470\n",
      "1480\n",
      "1490\n",
      "1500\n"
     ]
    }
   ],
   "source": [
    "articles_3 = get_articles(url, base_url, 1301, 200)"
   ]
  },
  {
   "cell_type": "code",
   "execution_count": 12,
   "id": "dc2d02fd",
   "metadata": {},
   "outputs": [],
   "source": [
    "articles_3_df = pd.DataFrame(articles_3)\n",
    "articles_3_df.to_csv('cricinfo_articles_3.csv', index = False)"
   ]
  },
  {
   "cell_type": "code",
   "execution_count": 3,
   "id": "da17d1e1",
   "metadata": {},
   "outputs": [],
   "source": [
    "df_1 = pd.read_csv('cricinfo_articles.csv')\n",
    "df_2 = pd.read_csv('cricinfo_articles_2.csv')\n",
    "df_3 = pd.read_csv('cricinfo_articles_3.csv')"
   ]
  },
  {
   "cell_type": "code",
   "execution_count": 7,
   "id": "d320ff41",
   "metadata": {},
   "outputs": [
    {
     "data": {
      "text/html": [
       "<div>\n",
       "<style scoped>\n",
       "    .dataframe tbody tr th:only-of-type {\n",
       "        vertical-align: middle;\n",
       "    }\n",
       "\n",
       "    .dataframe tbody tr th {\n",
       "        vertical-align: top;\n",
       "    }\n",
       "\n",
       "    .dataframe thead th {\n",
       "        text-align: right;\n",
       "    }\n",
       "</style>\n",
       "<table border=\"1\" class=\"dataframe\">\n",
       "  <thead>\n",
       "    <tr style=\"text-align: right;\">\n",
       "      <th></th>\n",
       "      <th>title</th>\n",
       "      <th>link</th>\n",
       "      <th>summary</th>\n",
       "      <th>date</th>\n",
       "    </tr>\n",
       "  </thead>\n",
       "  <tbody>\n",
       "    <tr>\n",
       "      <th>0</th>\n",
       "      <td>Lamichhane lands in West Indies, will play Nep...</td>\n",
       "      <td>https://www.espncricinfo.com/story/t20-world-c...</td>\n",
       "      <td>The ICC is yet to release a statement about wh...</td>\n",
       "      <td>10-Jun-2024</td>\n",
       "    </tr>\n",
       "    <tr>\n",
       "      <th>1</th>\n",
       "      <td>Kirsten bemoans Pakistan's 'poor decision-making'</td>\n",
       "      <td>https://www.espncricinfo.com/story/icc-men-s-t...</td>\n",
       "      <td>Player of the Match Bumrah lauds India's bowle...</td>\n",
       "      <td>10-Jun-2024</td>\n",
       "    </tr>\n",
       "    <tr>\n",
       "      <th>2</th>\n",
       "      <td>Rohit on Bumrah: 'He's a genius with the ball'</td>\n",
       "      <td>https://www.espncricinfo.com/story/t20-world-c...</td>\n",
       "      <td>\"Whoever had the ball in hand wanted to make a...</td>\n",
       "      <td>09-Jun-2024</td>\n",
       "    </tr>\n",
       "    <tr>\n",
       "      <th>3</th>\n",
       "      <td>Babar: 'We were not up to the mark'</td>\n",
       "      <td>https://www.espncricinfo.com/story/t20-world-c...</td>\n",
       "      <td>Pakistan captain says lack of rhythm upfront w...</td>\n",
       "      <td>09-Jun-2024</td>\n",
       "    </tr>\n",
       "    <tr>\n",
       "      <th>4</th>\n",
       "      <td>Bumrah spearheads India's defence of 119; Paki...</td>\n",
       "      <td>https://www.espncricinfo.com/series/icc-men-s-...</td>\n",
       "      <td>The trend of low scores continued in New York ...</td>\n",
       "      <td>09-Jun-2024</td>\n",
       "    </tr>\n",
       "  </tbody>\n",
       "</table>\n",
       "</div>"
      ],
      "text/plain": [
       "                                               title  \\\n",
       "0  Lamichhane lands in West Indies, will play Nep...   \n",
       "1  Kirsten bemoans Pakistan's 'poor decision-making'   \n",
       "2     Rohit on Bumrah: 'He's a genius with the ball'   \n",
       "3                Babar: 'We were not up to the mark'   \n",
       "4  Bumrah spearheads India's defence of 119; Paki...   \n",
       "\n",
       "                                                link  \\\n",
       "0  https://www.espncricinfo.com/story/t20-world-c...   \n",
       "1  https://www.espncricinfo.com/story/icc-men-s-t...   \n",
       "2  https://www.espncricinfo.com/story/t20-world-c...   \n",
       "3  https://www.espncricinfo.com/story/t20-world-c...   \n",
       "4  https://www.espncricinfo.com/series/icc-men-s-...   \n",
       "\n",
       "                                             summary          date  \n",
       "0  The ICC is yet to release a statement about wh...  10-Jun-2024   \n",
       "1  Player of the Match Bumrah lauds India's bowle...  10-Jun-2024   \n",
       "2  \"Whoever had the ball in hand wanted to make a...  09-Jun-2024   \n",
       "3  Pakistan captain says lack of rhythm upfront w...  09-Jun-2024   \n",
       "4  The trend of low scores continued in New York ...  09-Jun-2024   "
      ]
     },
     "metadata": {},
     "output_type": "display_data"
    },
    {
     "name": "stdout",
     "output_type": "stream",
     "text": [
      "19992\n"
     ]
    }
   ],
   "source": [
    "display(df_1.head())\n",
    "print(len(df_1))"
   ]
  },
  {
   "cell_type": "code",
   "execution_count": 6,
   "id": "bf6292fe",
   "metadata": {},
   "outputs": [
    {
     "data": {
      "text/html": [
       "<div>\n",
       "<style scoped>\n",
       "    .dataframe tbody tr th:only-of-type {\n",
       "        vertical-align: middle;\n",
       "    }\n",
       "\n",
       "    .dataframe tbody tr th {\n",
       "        vertical-align: top;\n",
       "    }\n",
       "\n",
       "    .dataframe thead th {\n",
       "        text-align: right;\n",
       "    }\n",
       "</style>\n",
       "<table border=\"1\" class=\"dataframe\">\n",
       "  <thead>\n",
       "    <tr style=\"text-align: right;\">\n",
       "      <th></th>\n",
       "      <th>title</th>\n",
       "      <th>link</th>\n",
       "      <th>summary</th>\n",
       "      <th>date</th>\n",
       "    </tr>\n",
       "  </thead>\n",
       "  <tbody>\n",
       "    <tr>\n",
       "      <th>0</th>\n",
       "      <td>Alex Carey for 'injured' Rishabh Pant not a st...</td>\n",
       "      <td>https://www.espncricinfo.com/story/alex-carey-...</td>\n",
       "      <td>Absence of a back-up Indian wicketkeeper has a...</td>\n",
       "      <td>12-Oct-2020</td>\n",
       "    </tr>\n",
       "    <tr>\n",
       "      <th>1</th>\n",
       "      <td>Queensland hunt innings victory after Michael ...</td>\n",
       "      <td>https://www.espncricinfo.com/series/sheffield-...</td>\n",
       "      <td>Tasmania face a tough task to save the game on...</td>\n",
       "      <td>12-Oct-2020</td>\n",
       "    </tr>\n",
       "    <tr>\n",
       "      <th>2</th>\n",
       "      <td>Michael Neser and Ashton Agar achieve rare dou...</td>\n",
       "      <td>https://www.espncricinfo.com/story/sheffield-s...</td>\n",
       "      <td>Neser followed a five-wicket haul with a centu...</td>\n",
       "      <td>12-Oct-2020</td>\n",
       "    </tr>\n",
       "    <tr>\n",
       "      <th>3</th>\n",
       "      <td>Alistair Nicholson steps down as Australian Cr...</td>\n",
       "      <td>https://www.espncricinfo.com/story/alistair-ni...</td>\n",
       "      <td>Nicholson's six-year stint included the Newlan...</td>\n",
       "      <td>11-Oct-2020</td>\n",
       "    </tr>\n",
       "    <tr>\n",
       "      <th>4</th>\n",
       "      <td>Rishabh Pant sidelined from IPL 2020 'for a we...</td>\n",
       "      <td>https://www.espncricinfo.com/story/ipl-2020-de...</td>\n",
       "      <td>'He is going to be resting for a week,' says t...</td>\n",
       "      <td>11-Oct-2020</td>\n",
       "    </tr>\n",
       "  </tbody>\n",
       "</table>\n",
       "</div>"
      ],
      "text/plain": [
       "                                               title  \\\n",
       "0  Alex Carey for 'injured' Rishabh Pant not a st...   \n",
       "1  Queensland hunt innings victory after Michael ...   \n",
       "2  Michael Neser and Ashton Agar achieve rare dou...   \n",
       "3  Alistair Nicholson steps down as Australian Cr...   \n",
       "4  Rishabh Pant sidelined from IPL 2020 'for a we...   \n",
       "\n",
       "                                                link  \\\n",
       "0  https://www.espncricinfo.com/story/alex-carey-...   \n",
       "1  https://www.espncricinfo.com/series/sheffield-...   \n",
       "2  https://www.espncricinfo.com/story/sheffield-s...   \n",
       "3  https://www.espncricinfo.com/story/alistair-ni...   \n",
       "4  https://www.espncricinfo.com/story/ipl-2020-de...   \n",
       "\n",
       "                                             summary         date  \n",
       "0  Absence of a back-up Indian wicketkeeper has a...  12-Oct-2020  \n",
       "1  Tasmania face a tough task to save the game on...  12-Oct-2020  \n",
       "2  Neser followed a five-wicket haul with a centu...  12-Oct-2020  \n",
       "3  Nicholson's six-year stint included the Newlan...  11-Oct-2020  \n",
       "4  'He is going to be resting for a week,' says t...  11-Oct-2020  "
      ]
     },
     "metadata": {},
     "output_type": "display_data"
    },
    {
     "name": "stdout",
     "output_type": "stream",
     "text": [
      "6000\n"
     ]
    }
   ],
   "source": [
    "display(df_2.head())\n",
    "print(len(df_2))"
   ]
  },
  {
   "cell_type": "code",
   "execution_count": 8,
   "id": "a9186535",
   "metadata": {},
   "outputs": [
    {
     "data": {
      "text/html": [
       "<div>\n",
       "<style scoped>\n",
       "    .dataframe tbody tr th:only-of-type {\n",
       "        vertical-align: middle;\n",
       "    }\n",
       "\n",
       "    .dataframe tbody tr th {\n",
       "        vertical-align: top;\n",
       "    }\n",
       "\n",
       "    .dataframe thead th {\n",
       "        text-align: right;\n",
       "    }\n",
       "</style>\n",
       "<table border=\"1\" class=\"dataframe\">\n",
       "  <thead>\n",
       "    <tr style=\"text-align: right;\">\n",
       "      <th></th>\n",
       "      <th>title</th>\n",
       "      <th>link</th>\n",
       "      <th>summary</th>\n",
       "      <th>date</th>\n",
       "    </tr>\n",
       "  </thead>\n",
       "  <tbody>\n",
       "    <tr>\n",
       "      <th>0</th>\n",
       "      <td>Lamichhane lands in West Indies, will play Nep...</td>\n",
       "      <td>https://www.espncricinfo.com/story/t20-world-c...</td>\n",
       "      <td>The ICC is yet to release a statement about wh...</td>\n",
       "      <td>10-Jun-2024</td>\n",
       "    </tr>\n",
       "    <tr>\n",
       "      <th>1</th>\n",
       "      <td>Kirsten bemoans Pakistan's 'poor decision-making'</td>\n",
       "      <td>https://www.espncricinfo.com/story/icc-men-s-t...</td>\n",
       "      <td>Player of the Match Bumrah lauds India's bowle...</td>\n",
       "      <td>10-Jun-2024</td>\n",
       "    </tr>\n",
       "    <tr>\n",
       "      <th>2</th>\n",
       "      <td>Rohit on Bumrah: 'He's a genius with the ball'</td>\n",
       "      <td>https://www.espncricinfo.com/story/t20-world-c...</td>\n",
       "      <td>\"Whoever had the ball in hand wanted to make a...</td>\n",
       "      <td>09-Jun-2024</td>\n",
       "    </tr>\n",
       "    <tr>\n",
       "      <th>3</th>\n",
       "      <td>Babar: 'We were not up to the mark'</td>\n",
       "      <td>https://www.espncricinfo.com/story/t20-world-c...</td>\n",
       "      <td>Pakistan captain says lack of rhythm upfront w...</td>\n",
       "      <td>09-Jun-2024</td>\n",
       "    </tr>\n",
       "    <tr>\n",
       "      <th>4</th>\n",
       "      <td>Bumrah spearheads India's defence of 119; Paki...</td>\n",
       "      <td>https://www.espncricinfo.com/series/icc-men-s-...</td>\n",
       "      <td>The trend of low scores continued in New York ...</td>\n",
       "      <td>09-Jun-2024</td>\n",
       "    </tr>\n",
       "  </tbody>\n",
       "</table>\n",
       "</div>"
      ],
      "text/plain": [
       "                                               title  \\\n",
       "0  Lamichhane lands in West Indies, will play Nep...   \n",
       "1  Kirsten bemoans Pakistan's 'poor decision-making'   \n",
       "2     Rohit on Bumrah: 'He's a genius with the ball'   \n",
       "3                Babar: 'We were not up to the mark'   \n",
       "4  Bumrah spearheads India's defence of 119; Paki...   \n",
       "\n",
       "                                                link  \\\n",
       "0  https://www.espncricinfo.com/story/t20-world-c...   \n",
       "1  https://www.espncricinfo.com/story/icc-men-s-t...   \n",
       "2  https://www.espncricinfo.com/story/t20-world-c...   \n",
       "3  https://www.espncricinfo.com/story/t20-world-c...   \n",
       "4  https://www.espncricinfo.com/series/icc-men-s-...   \n",
       "\n",
       "                                             summary          date  \n",
       "0  The ICC is yet to release a statement about wh...  10-Jun-2024   \n",
       "1  Player of the Match Bumrah lauds India's bowle...  10-Jun-2024   \n",
       "2  \"Whoever had the ball in hand wanted to make a...  09-Jun-2024   \n",
       "3  Pakistan captain says lack of rhythm upfront w...  09-Jun-2024   \n",
       "4  The trend of low scores continued in New York ...  09-Jun-2024   "
      ]
     },
     "metadata": {},
     "output_type": "display_data"
    },
    {
     "name": "stdout",
     "output_type": "stream",
     "text": [
      "29988\n"
     ]
    }
   ],
   "source": [
    "df = pd.concat([df_1, df_2, df_3])\n",
    "display(df.head())\n",
    "print(len(df))"
   ]
  },
  {
   "cell_type": "code",
   "execution_count": 9,
   "id": "c52388b7",
   "metadata": {},
   "outputs": [],
   "source": [
    "df.to_csv('articles_full.csv')"
   ]
  },
  {
   "cell_type": "markdown",
   "id": "862c3107",
   "metadata": {},
   "source": [
    "### 2) Data Inspection - Don't need to run"
   ]
  },
  {
   "cell_type": "code",
   "execution_count": 1,
   "id": "281c3318",
   "metadata": {},
   "outputs": [],
   "source": [
    "import pandas as pd"
   ]
  },
  {
   "cell_type": "code",
   "execution_count": 2,
   "id": "f16c58da",
   "metadata": {},
   "outputs": [],
   "source": [
    "df = pd.read_csv('articles_full.csv')"
   ]
  },
  {
   "cell_type": "code",
   "execution_count": 3,
   "id": "f4be0e3d",
   "metadata": {},
   "outputs": [
    {
     "data": {
      "text/html": [
       "<div>\n",
       "<style scoped>\n",
       "    .dataframe tbody tr th:only-of-type {\n",
       "        vertical-align: middle;\n",
       "    }\n",
       "\n",
       "    .dataframe tbody tr th {\n",
       "        vertical-align: top;\n",
       "    }\n",
       "\n",
       "    .dataframe thead th {\n",
       "        text-align: right;\n",
       "    }\n",
       "</style>\n",
       "<table border=\"1\" class=\"dataframe\">\n",
       "  <thead>\n",
       "    <tr style=\"text-align: right;\">\n",
       "      <th></th>\n",
       "      <th>title</th>\n",
       "      <th>link</th>\n",
       "      <th>summary</th>\n",
       "      <th>date</th>\n",
       "    </tr>\n",
       "  </thead>\n",
       "  <tbody>\n",
       "    <tr>\n",
       "      <th>0</th>\n",
       "      <td>Lamichhane lands in West Indies, will play Nep...</td>\n",
       "      <td>https://www.espncricinfo.com/story/t20-world-c...</td>\n",
       "      <td>The ICC is yet to release a statement about wh...</td>\n",
       "      <td>10-Jun-24</td>\n",
       "    </tr>\n",
       "    <tr>\n",
       "      <th>1</th>\n",
       "      <td>Kirsten bemoans Pakistan's 'poor decision-making'</td>\n",
       "      <td>https://www.espncricinfo.com/story/icc-men-s-t...</td>\n",
       "      <td>Player of the Match Bumrah lauds India's bowle...</td>\n",
       "      <td>10-Jun-24</td>\n",
       "    </tr>\n",
       "    <tr>\n",
       "      <th>2</th>\n",
       "      <td>Rohit on Bumrah: 'He's a genius with the ball'</td>\n",
       "      <td>https://www.espncricinfo.com/story/t20-world-c...</td>\n",
       "      <td>\"Whoever had the ball in hand wanted to make a...</td>\n",
       "      <td>9-Jun-24</td>\n",
       "    </tr>\n",
       "    <tr>\n",
       "      <th>3</th>\n",
       "      <td>Babar: 'We were not up to the mark'</td>\n",
       "      <td>https://www.espncricinfo.com/story/t20-world-c...</td>\n",
       "      <td>Pakistan captain says lack of rhythm upfront w...</td>\n",
       "      <td>9-Jun-24</td>\n",
       "    </tr>\n",
       "    <tr>\n",
       "      <th>4</th>\n",
       "      <td>Bumrah spearheads India's defence of 119; Paki...</td>\n",
       "      <td>https://www.espncricinfo.com/series/icc-men-s-...</td>\n",
       "      <td>The trend of low scores continued in New York ...</td>\n",
       "      <td>9-Jun-24</td>\n",
       "    </tr>\n",
       "  </tbody>\n",
       "</table>\n",
       "</div>"
      ],
      "text/plain": [
       "                                               title  \\\n",
       "0  Lamichhane lands in West Indies, will play Nep...   \n",
       "1  Kirsten bemoans Pakistan's 'poor decision-making'   \n",
       "2     Rohit on Bumrah: 'He's a genius with the ball'   \n",
       "3                Babar: 'We were not up to the mark'   \n",
       "4  Bumrah spearheads India's defence of 119; Paki...   \n",
       "\n",
       "                                                link  \\\n",
       "0  https://www.espncricinfo.com/story/t20-world-c...   \n",
       "1  https://www.espncricinfo.com/story/icc-men-s-t...   \n",
       "2  https://www.espncricinfo.com/story/t20-world-c...   \n",
       "3  https://www.espncricinfo.com/story/t20-world-c...   \n",
       "4  https://www.espncricinfo.com/series/icc-men-s-...   \n",
       "\n",
       "                                             summary       date  \n",
       "0  The ICC is yet to release a statement about wh...  10-Jun-24  \n",
       "1  Player of the Match Bumrah lauds India's bowle...  10-Jun-24  \n",
       "2  \"Whoever had the ball in hand wanted to make a...   9-Jun-24  \n",
       "3  Pakistan captain says lack of rhythm upfront w...   9-Jun-24  \n",
       "4  The trend of low scores continued in New York ...   9-Jun-24  "
      ]
     },
     "metadata": {},
     "output_type": "display_data"
    }
   ],
   "source": [
    "display(df.head())"
   ]
  },
  {
   "cell_type": "code",
   "execution_count": 4,
   "id": "4fe9aa41",
   "metadata": {},
   "outputs": [
    {
     "data": {
      "text/plain": [
       "29988"
      ]
     },
     "execution_count": 4,
     "metadata": {},
     "output_type": "execute_result"
    }
   ],
   "source": [
    "len(df)"
   ]
  },
  {
   "cell_type": "code",
   "execution_count": 5,
   "id": "98f8ce85",
   "metadata": {},
   "outputs": [
    {
     "name": "stdout",
     "output_type": "stream",
     "text": [
      "<class 'pandas.core.frame.DataFrame'>\n",
      "RangeIndex: 29988 entries, 0 to 29987\n",
      "Data columns (total 4 columns):\n",
      " #   Column   Non-Null Count  Dtype \n",
      "---  ------   --------------  ----- \n",
      " 0   title    29988 non-null  object\n",
      " 1   link     29988 non-null  object\n",
      " 2   summary  29988 non-null  object\n",
      " 3   date     29982 non-null  object\n",
      "dtypes: object(4)\n",
      "memory usage: 937.2+ KB\n",
      "None\n"
     ]
    }
   ],
   "source": [
    "print(df.info())"
   ]
  },
  {
   "cell_type": "code",
   "execution_count": 6,
   "id": "9742e910",
   "metadata": {},
   "outputs": [
    {
     "data": {
      "text/html": [
       "<div>\n",
       "<style scoped>\n",
       "    .dataframe tbody tr th:only-of-type {\n",
       "        vertical-align: middle;\n",
       "    }\n",
       "\n",
       "    .dataframe tbody tr th {\n",
       "        vertical-align: top;\n",
       "    }\n",
       "\n",
       "    .dataframe thead th {\n",
       "        text-align: right;\n",
       "    }\n",
       "</style>\n",
       "<table border=\"1\" class=\"dataframe\">\n",
       "  <thead>\n",
       "    <tr style=\"text-align: right;\">\n",
       "      <th></th>\n",
       "      <th>title</th>\n",
       "      <th>link</th>\n",
       "      <th>summary</th>\n",
       "      <th>date</th>\n",
       "    </tr>\n",
       "  </thead>\n",
       "  <tbody>\n",
       "    <tr>\n",
       "      <th>count</th>\n",
       "      <td>29988</td>\n",
       "      <td>29988</td>\n",
       "      <td>29988</td>\n",
       "      <td>29982</td>\n",
       "    </tr>\n",
       "    <tr>\n",
       "      <th>unique</th>\n",
       "      <td>29943</td>\n",
       "      <td>29923</td>\n",
       "      <td>29876</td>\n",
       "      <td>2047</td>\n",
       "    </tr>\n",
       "    <tr>\n",
       "      <th>top</th>\n",
       "      <td>Mohammad Nabi's 12-ball 43* maintains Kent's p...</td>\n",
       "      <td>https://www.espncricinfo.com/series/ipl-2020-2...</td>\n",
       "      <td>Updates, colour and analysis with ESPNcricinfo...</td>\n",
       "      <td>30-Jul-19</td>\n",
       "    </tr>\n",
       "    <tr>\n",
       "      <th>freq</th>\n",
       "      <td>2</td>\n",
       "      <td>2</td>\n",
       "      <td>8</td>\n",
       "      <td>36</td>\n",
       "    </tr>\n",
       "  </tbody>\n",
       "</table>\n",
       "</div>"
      ],
      "text/plain": [
       "                                                    title  \\\n",
       "count                                               29988   \n",
       "unique                                              29943   \n",
       "top     Mohammad Nabi's 12-ball 43* maintains Kent's p...   \n",
       "freq                                                    2   \n",
       "\n",
       "                                                     link  \\\n",
       "count                                               29988   \n",
       "unique                                              29923   \n",
       "top     https://www.espncricinfo.com/series/ipl-2020-2...   \n",
       "freq                                                    2   \n",
       "\n",
       "                                                  summary       date  \n",
       "count                                               29988      29982  \n",
       "unique                                              29876       2047  \n",
       "top     Updates, colour and analysis with ESPNcricinfo...  30-Jul-19  \n",
       "freq                                                    8         36  "
      ]
     },
     "metadata": {},
     "output_type": "display_data"
    }
   ],
   "source": [
    "display(df.describe())"
   ]
  },
  {
   "cell_type": "code",
   "execution_count": 7,
   "id": "98d5358a",
   "metadata": {},
   "outputs": [
    {
     "name": "stdout",
     "output_type": "stream",
     "text": [
      "title      0\n",
      "link       0\n",
      "summary    0\n",
      "date       6\n",
      "dtype: int64\n"
     ]
    }
   ],
   "source": [
    "print(df.isnull().sum())"
   ]
  },
  {
   "cell_type": "code",
   "execution_count": 32,
   "id": "8e82b6d3",
   "metadata": {},
   "outputs": [],
   "source": [
    "df = df.drop_duplicates()\n",
    "df = df.dropna().reset_index()"
   ]
  },
  {
   "cell_type": "code",
   "execution_count": 33,
   "id": "f3d1fe6e",
   "metadata": {},
   "outputs": [],
   "source": [
    "df = df.drop('index', axis = 1)"
   ]
  },
  {
   "cell_type": "code",
   "execution_count": 10,
   "id": "88d67a64",
   "metadata": {},
   "outputs": [
    {
     "name": "stdout",
     "output_type": "stream",
     "text": [
      "(29943, 4)\n"
     ]
    }
   ],
   "source": [
    "print(df.shape)"
   ]
  },
  {
   "cell_type": "code",
   "execution_count": 11,
   "id": "475df72d",
   "metadata": {},
   "outputs": [
    {
     "data": {
      "text/html": [
       "<div>\n",
       "<style scoped>\n",
       "    .dataframe tbody tr th:only-of-type {\n",
       "        vertical-align: middle;\n",
       "    }\n",
       "\n",
       "    .dataframe tbody tr th {\n",
       "        vertical-align: top;\n",
       "    }\n",
       "\n",
       "    .dataframe thead th {\n",
       "        text-align: right;\n",
       "    }\n",
       "</style>\n",
       "<table border=\"1\" class=\"dataframe\">\n",
       "  <thead>\n",
       "    <tr style=\"text-align: right;\">\n",
       "      <th></th>\n",
       "      <th>title</th>\n",
       "      <th>link</th>\n",
       "      <th>summary</th>\n",
       "      <th>date</th>\n",
       "    </tr>\n",
       "  </thead>\n",
       "  <tbody>\n",
       "    <tr>\n",
       "      <th>0</th>\n",
       "      <td>Lamichhane lands in West Indies, will play Nep...</td>\n",
       "      <td>https://www.espncricinfo.com/story/t20-world-c...</td>\n",
       "      <td>The ICC is yet to release a statement about wh...</td>\n",
       "      <td>10-Jun-24</td>\n",
       "    </tr>\n",
       "    <tr>\n",
       "      <th>1</th>\n",
       "      <td>Kirsten bemoans Pakistan's 'poor decision-making'</td>\n",
       "      <td>https://www.espncricinfo.com/story/icc-men-s-t...</td>\n",
       "      <td>Player of the Match Bumrah lauds India's bowle...</td>\n",
       "      <td>10-Jun-24</td>\n",
       "    </tr>\n",
       "    <tr>\n",
       "      <th>2</th>\n",
       "      <td>Rohit on Bumrah: 'He's a genius with the ball'</td>\n",
       "      <td>https://www.espncricinfo.com/story/t20-world-c...</td>\n",
       "      <td>\"Whoever had the ball in hand wanted to make a...</td>\n",
       "      <td>9-Jun-24</td>\n",
       "    </tr>\n",
       "    <tr>\n",
       "      <th>3</th>\n",
       "      <td>Babar: 'We were not up to the mark'</td>\n",
       "      <td>https://www.espncricinfo.com/story/t20-world-c...</td>\n",
       "      <td>Pakistan captain says lack of rhythm upfront w...</td>\n",
       "      <td>9-Jun-24</td>\n",
       "    </tr>\n",
       "    <tr>\n",
       "      <th>4</th>\n",
       "      <td>Bumrah spearheads India's defence of 119; Paki...</td>\n",
       "      <td>https://www.espncricinfo.com/series/icc-men-s-...</td>\n",
       "      <td>The trend of low scores continued in New York ...</td>\n",
       "      <td>9-Jun-24</td>\n",
       "    </tr>\n",
       "  </tbody>\n",
       "</table>\n",
       "</div>"
      ],
      "text/plain": [
       "                                               title  \\\n",
       "0  Lamichhane lands in West Indies, will play Nep...   \n",
       "1  Kirsten bemoans Pakistan's 'poor decision-making'   \n",
       "2     Rohit on Bumrah: 'He's a genius with the ball'   \n",
       "3                Babar: 'We were not up to the mark'   \n",
       "4  Bumrah spearheads India's defence of 119; Paki...   \n",
       "\n",
       "                                                link  \\\n",
       "0  https://www.espncricinfo.com/story/t20-world-c...   \n",
       "1  https://www.espncricinfo.com/story/icc-men-s-t...   \n",
       "2  https://www.espncricinfo.com/story/t20-world-c...   \n",
       "3  https://www.espncricinfo.com/story/t20-world-c...   \n",
       "4  https://www.espncricinfo.com/series/icc-men-s-...   \n",
       "\n",
       "                                             summary       date  \n",
       "0  The ICC is yet to release a statement about wh...  10-Jun-24  \n",
       "1  Player of the Match Bumrah lauds India's bowle...  10-Jun-24  \n",
       "2  \"Whoever had the ball in hand wanted to make a...   9-Jun-24  \n",
       "3  Pakistan captain says lack of rhythm upfront w...   9-Jun-24  \n",
       "4  The trend of low scores continued in New York ...   9-Jun-24  "
      ]
     },
     "metadata": {},
     "output_type": "display_data"
    }
   ],
   "source": [
    "display(df.head())"
   ]
  },
  {
   "cell_type": "code",
   "execution_count": 12,
   "id": "f45cbc39",
   "metadata": {},
   "outputs": [],
   "source": [
    "# converting all text to lower case\n",
    "df['title'] = df['title'].str.lower()\n",
    "df['summary'] = df['summary'].str.lower()"
   ]
  },
  {
   "cell_type": "markdown",
   "id": "c581ad99",
   "metadata": {},
   "source": [
    "### 3) Text Preprocessing - Don't need to run"
   ]
  },
  {
   "cell_type": "code",
   "execution_count": 15,
   "id": "f2cbeba7",
   "metadata": {},
   "outputs": [],
   "source": [
    "import re\n",
    "import nltk\n",
    "import string\n",
    "from nltk.corpus import stopwords\n",
    "from nltk.tokenize import word_tokenize\n",
    "from nltk.stem.wordnet import WordNetLemmatizer \n",
    "from nltk.corpus import wordnet"
   ]
  },
  {
   "cell_type": "code",
   "execution_count": 17,
   "id": "9a19bbeb",
   "metadata": {},
   "outputs": [],
   "source": [
    "nltk.download(\"stopwords\", quiet = True)\n",
    "nltk.download(\"wordnet\", quiet = True)\n",
    "nltk.download(\"punkt\", quiet = True)\n",
    "nltk.download('averaged_perceptron_tagger', quiet = True)\n",
    "lemmatizer = WordNetLemmatizer()\n",
    "english_stopwords = set(nltk.corpus.stopwords.words('english'))"
   ]
  },
  {
   "cell_type": "code",
   "execution_count": 21,
   "id": "3f4f270b",
   "metadata": {},
   "outputs": [],
   "source": [
    "def clean_text(text):\n",
    "    # clean the input string by converting it to lower case, removing 's and apostrophe.\n",
    "    \n",
    "    text = text.lower()\n",
    "    # Remove 's \n",
    "    text = re.sub(r\"'s(\\s|$)\", r'\\1', text)\n",
    "    # Remove '\n",
    "    text = text.replace(\"'\", \"\")\n",
    "    # whitespace\n",
    "    text = text.strip()\n",
    "    \n",
    "    return text\n",
    "\n",
    "def tokenize(cleaned_text):\n",
    "    # Tokenize the input string.\n",
    "    \n",
    "    tokens = nltk.word_tokenize(cleaned_text)\n",
    "    # tokenizing non alpha-numeric characters\n",
    "    new_tokens = []\n",
    "    for token in tokens:\n",
    "        split_token = re.split(r'[^0-9a-zA-Z]+', token)\n",
    "        # remove empty strings\n",
    "        split_token = [token for token in split_token if token]\n",
    "        new_tokens.extend(split_token)\n",
    "    \n",
    "    return new_tokens\n",
    "\n",
    "def lemmatize(tokens, stopwords = {}):\n",
    "    # Lemmatize each token in an input list of tokens\n",
    "    \n",
    "    lemmatized_tokens = []\n",
    "    for token in tokens:\n",
    "        # getting the first POS tag and checking if it is a Noun\n",
    "        tag = nltk.pos_tag([token])[0][1]\n",
    "        if tag.startswith('J'):\n",
    "            tag = wordnet.ADJ\n",
    "        elif tag.startswith('V'):\n",
    "            tag = wordnet.VERB\n",
    "        elif tag.startswith('R'):\n",
    "            tag = wordnet.ADV\n",
    "        else:\n",
    "            tag = wordnet.NOUN\n",
    "        \n",
    "        # lemmatizing\n",
    "        lemmatized = lemmatizer.lemmatize(token, pos = tag) # first letter\n",
    "        if (lemmatized not in stopwords) and (len(lemmatized) >= 2):\n",
    "            lemmatized_tokens.append(lemmatized)\n",
    "            \n",
    "    return lemmatized_tokens\n",
    "\n",
    "def preprocess_text(text, stopwords = {}):\n",
    "    # preprocessing text\n",
    "    cleaned_text = clean_text(text)\n",
    "    tokens = tokenize(cleaned_text)\n",
    "    return lemmatize(tokens, stopwords)\n",
    "    "
   ]
  },
  {
   "cell_type": "code",
   "execution_count": 22,
   "id": "b6021d1e",
   "metadata": {},
   "outputs": [],
   "source": [
    "df['title'] = df['title'].apply(preprocess_text)\n",
    "df['summary'] = df['summary'].apply(preprocess_text)"
   ]
  },
  {
   "cell_type": "code",
   "execution_count": 26,
   "id": "212c6502",
   "metadata": {},
   "outputs": [],
   "source": [
    "def join_tokens(tokens):\n",
    "    return ' '.join(tokens)"
   ]
  },
  {
   "cell_type": "code",
   "execution_count": 27,
   "id": "0d68cc20",
   "metadata": {},
   "outputs": [],
   "source": [
    "df['title'] = df['title'].apply(join_tokens)\n",
    "df['summary'] = df['summary'].apply(join_tokens)"
   ]
  },
  {
   "cell_type": "code",
   "execution_count": 28,
   "id": "35de3928",
   "metadata": {},
   "outputs": [
    {
     "data": {
      "text/html": [
       "<div>\n",
       "<style scoped>\n",
       "    .dataframe tbody tr th:only-of-type {\n",
       "        vertical-align: middle;\n",
       "    }\n",
       "\n",
       "    .dataframe tbody tr th {\n",
       "        vertical-align: top;\n",
       "    }\n",
       "\n",
       "    .dataframe thead th {\n",
       "        text-align: right;\n",
       "    }\n",
       "</style>\n",
       "<table border=\"1\" class=\"dataframe\">\n",
       "  <thead>\n",
       "    <tr style=\"text-align: right;\">\n",
       "      <th></th>\n",
       "      <th>title</th>\n",
       "      <th>link</th>\n",
       "      <th>summary</th>\n",
       "      <th>date</th>\n",
       "    </tr>\n",
       "  </thead>\n",
       "  <tbody>\n",
       "    <tr>\n",
       "      <th>0</th>\n",
       "      <td>lamichhane land in west indie will play nepal ...</td>\n",
       "      <td>https://www.espncricinfo.com/story/t20-world-c...</td>\n",
       "      <td>the icc be yet to release statement about whet...</td>\n",
       "      <td>10-Jun-24</td>\n",
       "    </tr>\n",
       "    <tr>\n",
       "      <th>1</th>\n",
       "      <td>kirsten bemoans pakistan poor decision make</td>\n",
       "      <td>https://www.espncricinfo.com/story/icc-men-s-t...</td>\n",
       "      <td>player of the match bumrah lauds india bowler ...</td>\n",
       "      <td>10-Jun-24</td>\n",
       "    </tr>\n",
       "    <tr>\n",
       "      <th>2</th>\n",
       "      <td>rohit on bumrah he genius with the ball</td>\n",
       "      <td>https://www.espncricinfo.com/story/t20-world-c...</td>\n",
       "      <td>whoever have the ball in hand want to make con...</td>\n",
       "      <td>9-Jun-24</td>\n",
       "    </tr>\n",
       "    <tr>\n",
       "      <th>3</th>\n",
       "      <td>babar we be not up to the mark</td>\n",
       "      <td>https://www.espncricinfo.com/story/t20-world-c...</td>\n",
       "      <td>pakistan captain say lack of rhythm upfront wi...</td>\n",
       "      <td>9-Jun-24</td>\n",
       "    </tr>\n",
       "    <tr>\n",
       "      <th>4</th>\n",
       "      <td>bumrah spearhead india defence of 119 pakistan...</td>\n",
       "      <td>https://www.espncricinfo.com/series/icc-men-s-...</td>\n",
       "      <td>the trend of low score continued in new york i...</td>\n",
       "      <td>9-Jun-24</td>\n",
       "    </tr>\n",
       "  </tbody>\n",
       "</table>\n",
       "</div>"
      ],
      "text/plain": [
       "                                               title  \\\n",
       "0  lamichhane land in west indie will play nepal ...   \n",
       "1        kirsten bemoans pakistan poor decision make   \n",
       "2            rohit on bumrah he genius with the ball   \n",
       "3                     babar we be not up to the mark   \n",
       "4  bumrah spearhead india defence of 119 pakistan...   \n",
       "\n",
       "                                                link  \\\n",
       "0  https://www.espncricinfo.com/story/t20-world-c...   \n",
       "1  https://www.espncricinfo.com/story/icc-men-s-t...   \n",
       "2  https://www.espncricinfo.com/story/t20-world-c...   \n",
       "3  https://www.espncricinfo.com/story/t20-world-c...   \n",
       "4  https://www.espncricinfo.com/series/icc-men-s-...   \n",
       "\n",
       "                                             summary       date  \n",
       "0  the icc be yet to release statement about whet...  10-Jun-24  \n",
       "1  player of the match bumrah lauds india bowler ...  10-Jun-24  \n",
       "2  whoever have the ball in hand want to make con...   9-Jun-24  \n",
       "3  pakistan captain say lack of rhythm upfront wi...   9-Jun-24  \n",
       "4  the trend of low score continued in new york i...   9-Jun-24  "
      ]
     },
     "metadata": {},
     "output_type": "display_data"
    }
   ],
   "source": [
    "display(df.head())"
   ]
  },
  {
   "cell_type": "code",
   "execution_count": 29,
   "id": "3c2ef782",
   "metadata": {},
   "outputs": [],
   "source": [
    "df.to_csv('tokenized_articles.csv')"
   ]
  },
  {
   "cell_type": "markdown",
   "id": "6078af62",
   "metadata": {},
   "source": [
    "### 4) Feature Extraction"
   ]
  },
  {
   "cell_type": "code",
   "execution_count": 3,
   "id": "787a95c1",
   "metadata": {},
   "outputs": [
    {
     "name": "stderr",
     "output_type": "stream",
     "text": [
      "/Users/pranav/opt/miniconda3/lib/python3.9/site-packages/requests/__init__.py:102: RequestsDependencyWarning: urllib3 (1.26.19) or chardet (5.2.0)/charset_normalizer (2.0.4) doesn't match a supported version!\n",
      "  warnings.warn(\"urllib3 ({}) or chardet ({})/charset_normalizer ({}) doesn't match a supported \"\n"
     ]
    }
   ],
   "source": [
    "from sklearn.feature_extraction.text import CountVectorizer, TfidfVectorizer\n",
    "from sklearn.model_selection import train_test_split, StratifiedKFold\n",
    "from sklearn.svm import SVC\n",
    "from sklearn.decomposition import LatentDirichletAllocation\n",
    "\n",
    "from gensim.models import Word2Vec\n",
    "\n",
    "import pandas as pd\n",
    "import numpy as np\n",
    "import scipy.sparse as sp"
   ]
  },
  {
   "cell_type": "code",
   "execution_count": 4,
   "id": "dc5f1b65",
   "metadata": {},
   "outputs": [],
   "source": [
    "tokenized_df = pd.read_csv('tokenized_articles.csv')"
   ]
  },
  {
   "cell_type": "code",
   "execution_count": 5,
   "id": "b6b28738",
   "metadata": {},
   "outputs": [
    {
     "data": {
      "text/html": [
       "<div>\n",
       "<style scoped>\n",
       "    .dataframe tbody tr th:only-of-type {\n",
       "        vertical-align: middle;\n",
       "    }\n",
       "\n",
       "    .dataframe tbody tr th {\n",
       "        vertical-align: top;\n",
       "    }\n",
       "\n",
       "    .dataframe thead th {\n",
       "        text-align: right;\n",
       "    }\n",
       "</style>\n",
       "<table border=\"1\" class=\"dataframe\">\n",
       "  <thead>\n",
       "    <tr style=\"text-align: right;\">\n",
       "      <th></th>\n",
       "      <th>title</th>\n",
       "      <th>link</th>\n",
       "      <th>summary</th>\n",
       "      <th>date</th>\n",
       "    </tr>\n",
       "  </thead>\n",
       "  <tbody>\n",
       "    <tr>\n",
       "      <th>0</th>\n",
       "      <td>Lamichhane lands in West Indies, will play Nep...</td>\n",
       "      <td>https://www.espncricinfo.com/story/t20-world-c...</td>\n",
       "      <td>The ICC is yet to release a statement about wh...</td>\n",
       "      <td>10-Jun-24</td>\n",
       "    </tr>\n",
       "    <tr>\n",
       "      <th>1</th>\n",
       "      <td>Kirsten bemoans Pakistan's 'poor decision-making'</td>\n",
       "      <td>https://www.espncricinfo.com/story/icc-men-s-t...</td>\n",
       "      <td>Player of the Match Bumrah lauds India's bowle...</td>\n",
       "      <td>10-Jun-24</td>\n",
       "    </tr>\n",
       "    <tr>\n",
       "      <th>2</th>\n",
       "      <td>Rohit on Bumrah: 'He's a genius with the ball'</td>\n",
       "      <td>https://www.espncricinfo.com/story/t20-world-c...</td>\n",
       "      <td>\"Whoever had the ball in hand wanted to make a...</td>\n",
       "      <td>9-Jun-24</td>\n",
       "    </tr>\n",
       "    <tr>\n",
       "      <th>3</th>\n",
       "      <td>Babar: 'We were not up to the mark'</td>\n",
       "      <td>https://www.espncricinfo.com/story/t20-world-c...</td>\n",
       "      <td>Pakistan captain says lack of rhythm upfront w...</td>\n",
       "      <td>9-Jun-24</td>\n",
       "    </tr>\n",
       "    <tr>\n",
       "      <th>4</th>\n",
       "      <td>Bumrah spearheads India's defence of 119; Paki...</td>\n",
       "      <td>https://www.espncricinfo.com/series/icc-men-s-...</td>\n",
       "      <td>The trend of low scores continued in New York ...</td>\n",
       "      <td>9-Jun-24</td>\n",
       "    </tr>\n",
       "  </tbody>\n",
       "</table>\n",
       "</div>"
      ],
      "text/plain": [
       "                                               title  \\\n",
       "0  Lamichhane lands in West Indies, will play Nep...   \n",
       "1  Kirsten bemoans Pakistan's 'poor decision-making'   \n",
       "2     Rohit on Bumrah: 'He's a genius with the ball'   \n",
       "3                Babar: 'We were not up to the mark'   \n",
       "4  Bumrah spearheads India's defence of 119; Paki...   \n",
       "\n",
       "                                                link  \\\n",
       "0  https://www.espncricinfo.com/story/t20-world-c...   \n",
       "1  https://www.espncricinfo.com/story/icc-men-s-t...   \n",
       "2  https://www.espncricinfo.com/story/t20-world-c...   \n",
       "3  https://www.espncricinfo.com/story/t20-world-c...   \n",
       "4  https://www.espncricinfo.com/series/icc-men-s-...   \n",
       "\n",
       "                                             summary       date  \n",
       "0  The ICC is yet to release a statement about wh...  10-Jun-24  \n",
       "1  Player of the Match Bumrah lauds India's bowle...  10-Jun-24  \n",
       "2  \"Whoever had the ball in hand wanted to make a...   9-Jun-24  \n",
       "3  Pakistan captain says lack of rhythm upfront w...   9-Jun-24  \n",
       "4  The trend of low scores continued in New York ...   9-Jun-24  "
      ]
     },
     "metadata": {},
     "output_type": "display_data"
    },
    {
     "data": {
      "text/html": [
       "<div>\n",
       "<style scoped>\n",
       "    .dataframe tbody tr th:only-of-type {\n",
       "        vertical-align: middle;\n",
       "    }\n",
       "\n",
       "    .dataframe tbody tr th {\n",
       "        vertical-align: top;\n",
       "    }\n",
       "\n",
       "    .dataframe thead th {\n",
       "        text-align: right;\n",
       "    }\n",
       "</style>\n",
       "<table border=\"1\" class=\"dataframe\">\n",
       "  <thead>\n",
       "    <tr style=\"text-align: right;\">\n",
       "      <th></th>\n",
       "      <th>Unnamed: 0</th>\n",
       "      <th>title</th>\n",
       "      <th>link</th>\n",
       "      <th>summary</th>\n",
       "      <th>date</th>\n",
       "    </tr>\n",
       "  </thead>\n",
       "  <tbody>\n",
       "    <tr>\n",
       "      <th>0</th>\n",
       "      <td>0</td>\n",
       "      <td>lamichhane land in west indie will play nepal ...</td>\n",
       "      <td>https://www.espncricinfo.com/story/t20-world-c...</td>\n",
       "      <td>the icc be yet to release statement about whet...</td>\n",
       "      <td>10-Jun-24</td>\n",
       "    </tr>\n",
       "    <tr>\n",
       "      <th>1</th>\n",
       "      <td>1</td>\n",
       "      <td>kirsten bemoans pakistan poor decision make</td>\n",
       "      <td>https://www.espncricinfo.com/story/icc-men-s-t...</td>\n",
       "      <td>player of the match bumrah lauds india bowler ...</td>\n",
       "      <td>10-Jun-24</td>\n",
       "    </tr>\n",
       "    <tr>\n",
       "      <th>2</th>\n",
       "      <td>2</td>\n",
       "      <td>rohit on bumrah he genius with the ball</td>\n",
       "      <td>https://www.espncricinfo.com/story/t20-world-c...</td>\n",
       "      <td>whoever have the ball in hand want to make con...</td>\n",
       "      <td>9-Jun-24</td>\n",
       "    </tr>\n",
       "    <tr>\n",
       "      <th>3</th>\n",
       "      <td>3</td>\n",
       "      <td>babar we be not up to the mark</td>\n",
       "      <td>https://www.espncricinfo.com/story/t20-world-c...</td>\n",
       "      <td>pakistan captain say lack of rhythm upfront wi...</td>\n",
       "      <td>9-Jun-24</td>\n",
       "    </tr>\n",
       "    <tr>\n",
       "      <th>4</th>\n",
       "      <td>4</td>\n",
       "      <td>bumrah spearhead india defence of 119 pakistan...</td>\n",
       "      <td>https://www.espncricinfo.com/series/icc-men-s-...</td>\n",
       "      <td>the trend of low score continued in new york i...</td>\n",
       "      <td>9-Jun-24</td>\n",
       "    </tr>\n",
       "  </tbody>\n",
       "</table>\n",
       "</div>"
      ],
      "text/plain": [
       "   Unnamed: 0                                              title  \\\n",
       "0           0  lamichhane land in west indie will play nepal ...   \n",
       "1           1        kirsten bemoans pakistan poor decision make   \n",
       "2           2            rohit on bumrah he genius with the ball   \n",
       "3           3                     babar we be not up to the mark   \n",
       "4           4  bumrah spearhead india defence of 119 pakistan...   \n",
       "\n",
       "                                                link  \\\n",
       "0  https://www.espncricinfo.com/story/t20-world-c...   \n",
       "1  https://www.espncricinfo.com/story/icc-men-s-t...   \n",
       "2  https://www.espncricinfo.com/story/t20-world-c...   \n",
       "3  https://www.espncricinfo.com/story/t20-world-c...   \n",
       "4  https://www.espncricinfo.com/series/icc-men-s-...   \n",
       "\n",
       "                                             summary       date  \n",
       "0  the icc be yet to release statement about whet...  10-Jun-24  \n",
       "1  player of the match bumrah lauds india bowler ...  10-Jun-24  \n",
       "2  whoever have the ball in hand want to make con...   9-Jun-24  \n",
       "3  pakistan captain say lack of rhythm upfront wi...   9-Jun-24  \n",
       "4  the trend of low score continued in new york i...   9-Jun-24  "
      ]
     },
     "metadata": {},
     "output_type": "display_data"
    }
   ],
   "source": [
    "display(df.head())\n",
    "display(tokenized_df.head())"
   ]
  },
  {
   "cell_type": "markdown",
   "id": "d67edd00",
   "metadata": {},
   "source": [
    "#### Count Vectorizer"
   ]
  },
  {
   "cell_type": "code",
   "execution_count": 6,
   "id": "ac30f6c3",
   "metadata": {},
   "outputs": [],
   "source": [
    "def dummy(x):\n",
    "    return x\n",
    "\n",
    "def count_vectorizer(text):\n",
    "    # Computes the term-frequency matrices for the text\n",
    "    vectorizer = CountVectorizer(analyzer = str.split, tokenizer = str.split, preprocessor = dummy)\n",
    "    tf_text = vectorizer.fit_transform(text)\n",
    "    features = vectorizer.get_feature_names_out().tolist()\n",
    "    \n",
    "    return tf_text, features"
   ]
  },
  {
   "cell_type": "code",
   "execution_count": 8,
   "id": "9757604b",
   "metadata": {},
   "outputs": [],
   "source": [
    "tf_title, features_title_tf = count_vectorizer(tokenized_df['title'])\n",
    "tf_summary, features_summary_tf = count_vectorizer(tokenized_df['summary'])"
   ]
  },
  {
   "cell_type": "code",
   "execution_count": 9,
   "id": "2a4de3e4",
   "metadata": {},
   "outputs": [
    {
     "data": {
      "text/plain": [
       "(29943, 5)"
      ]
     },
     "metadata": {},
     "output_type": "display_data"
    }
   ],
   "source": [
    "display(tokenized_df.shape)"
   ]
  },
  {
   "cell_type": "code",
   "execution_count": 10,
   "id": "4db583e8",
   "metadata": {},
   "outputs": [
    {
     "name": "stdout",
     "output_type": "stream",
     "text": [
      "(29943, 11922) 11922 (29943, 13162) 13162\n"
     ]
    }
   ],
   "source": [
    "print(tf_title.shape, len(features_title_tf), tf_summary.shape, len(features_summary_tf))"
   ]
  },
  {
   "cell_type": "code",
   "execution_count": 11,
   "id": "e0db63c1",
   "metadata": {},
   "outputs": [
    {
     "data": {
      "text/plain": [
       "['zouks', 'zoysa', 'zubayr', 'zulfiqar', 'zyl']"
      ]
     },
     "metadata": {},
     "output_type": "display_data"
    }
   ],
   "source": [
    "display(features_title_tf[-5:])"
   ]
  },
  {
   "cell_type": "markdown",
   "id": "c615393b",
   "metadata": {},
   "source": [
    "#### TF-IDF Vectorizer"
   ]
  },
  {
   "cell_type": "code",
   "execution_count": 7,
   "id": "db892049",
   "metadata": {},
   "outputs": [],
   "source": [
    "def tfidf_vectorizer(text):\n",
    "    # Computes the TF-IDF matrices for the text\n",
    "    vectorizer = TfidfVectorizer(analyzer = str.split, tokenizer = str.split, preprocessor = dummy)\n",
    "    tf_text = vectorizer.fit_transform(text)\n",
    "    features = vectorizer.get_feature_names_out().tolist()\n",
    "    \n",
    "    return tf_text, features"
   ]
  },
  {
   "cell_type": "code",
   "execution_count": 8,
   "id": "8bab1dd5",
   "metadata": {},
   "outputs": [],
   "source": [
    "tfidf_title, features_title_tfidf = tfidf_vectorizer(tokenized_df['title'])\n",
    "tfidf_summary, features_summary_tfidf = tfidf_vectorizer(tokenized_df['summary'])"
   ]
  },
  {
   "cell_type": "code",
   "execution_count": 9,
   "id": "dd21810d",
   "metadata": {},
   "outputs": [
    {
     "name": "stdout",
     "output_type": "stream",
     "text": [
      "(29943, 11922) 11922 (29943, 13162) 13162\n"
     ]
    }
   ],
   "source": [
    "print(tfidf_title.shape, len(features_title_tfidf), tfidf_summary.shape, len(features_summary_tfidf))"
   ]
  },
  {
   "cell_type": "code",
   "execution_count": 10,
   "id": "1b9755f0",
   "metadata": {},
   "outputs": [],
   "source": [
    "# converting tf-idf matrix from sparse to dense\n",
    "tfidf_title_dense = tfidf_title.toarray()\n",
    "tfidf_summary_dense = tfidf_summary.toarray()"
   ]
  },
  {
   "cell_type": "code",
   "execution_count": 11,
   "id": "1d362cf6",
   "metadata": {},
   "outputs": [],
   "source": [
    "# making dfs for titles and summaries\n",
    "df_title_tfidf = pd.DataFrame(tfidf_title_dense, columns=features_title_tfidf)\n",
    "df_summary_tfidf = pd.DataFrame(tfidf_summary_dense, columns=features_summary_tfidf)"
   ]
  },
  {
   "cell_type": "code",
   "execution_count": 12,
   "id": "165d3ed2",
   "metadata": {},
   "outputs": [],
   "source": [
    "vectorized_df = pd.concat([df_title_tfidf, df_summary_tfidf], axis=1)"
   ]
  },
  {
   "cell_type": "code",
   "execution_count": 13,
   "id": "d74f429e",
   "metadata": {},
   "outputs": [],
   "source": [
    "vectorized_df['original_title'] = df['title']\n",
    "vectorized_df['original_summary'] = df['summary']\n",
    "vectorized_df['link'] = df['link']"
   ]
  },
  {
   "cell_type": "code",
   "execution_count": 14,
   "id": "e469eed1",
   "metadata": {},
   "outputs": [
    {
     "data": {
      "text/html": [
       "<div>\n",
       "<style scoped>\n",
       "    .dataframe tbody tr th:only-of-type {\n",
       "        vertical-align: middle;\n",
       "    }\n",
       "\n",
       "    .dataframe tbody tr th {\n",
       "        vertical-align: top;\n",
       "    }\n",
       "\n",
       "    .dataframe thead th {\n",
       "        text-align: right;\n",
       "    }\n",
       "</style>\n",
       "<table border=\"1\" class=\"dataframe\">\n",
       "  <thead>\n",
       "    <tr style=\"text-align: right;\">\n",
       "      <th></th>\n",
       "      <th>00</th>\n",
       "      <th>000</th>\n",
       "      <th>07</th>\n",
       "      <th>09</th>\n",
       "      <th>10</th>\n",
       "      <th>100</th>\n",
       "      <th>1000</th>\n",
       "      <th>1000th</th>\n",
       "      <th>100k</th>\n",
       "      <th>100th</th>\n",
       "      <th>...</th>\n",
       "      <th>zorzi</th>\n",
       "      <th>zouks</th>\n",
       "      <th>zoysa</th>\n",
       "      <th>zubayr</th>\n",
       "      <th>zulfiqar</th>\n",
       "      <th>zulu</th>\n",
       "      <th>zunaid</th>\n",
       "      <th>zyl</th>\n",
       "      <th>original_title</th>\n",
       "      <th>original_summary</th>\n",
       "    </tr>\n",
       "  </thead>\n",
       "  <tbody>\n",
       "    <tr>\n",
       "      <th>0</th>\n",
       "      <td>0.0</td>\n",
       "      <td>0.0</td>\n",
       "      <td>0.0</td>\n",
       "      <td>0.0</td>\n",
       "      <td>0.0</td>\n",
       "      <td>0.0</td>\n",
       "      <td>0.0</td>\n",
       "      <td>0.0</td>\n",
       "      <td>0.0</td>\n",
       "      <td>0.0</td>\n",
       "      <td>...</td>\n",
       "      <td>0.0</td>\n",
       "      <td>0.0</td>\n",
       "      <td>0.0</td>\n",
       "      <td>0.0</td>\n",
       "      <td>0.0</td>\n",
       "      <td>0.0</td>\n",
       "      <td>0.0</td>\n",
       "      <td>0.0</td>\n",
       "      <td>Lamichhane lands in West Indies, will play Nep...</td>\n",
       "      <td>The ICC is yet to release a statement about wh...</td>\n",
       "    </tr>\n",
       "    <tr>\n",
       "      <th>1</th>\n",
       "      <td>0.0</td>\n",
       "      <td>0.0</td>\n",
       "      <td>0.0</td>\n",
       "      <td>0.0</td>\n",
       "      <td>0.0</td>\n",
       "      <td>0.0</td>\n",
       "      <td>0.0</td>\n",
       "      <td>0.0</td>\n",
       "      <td>0.0</td>\n",
       "      <td>0.0</td>\n",
       "      <td>...</td>\n",
       "      <td>0.0</td>\n",
       "      <td>0.0</td>\n",
       "      <td>0.0</td>\n",
       "      <td>0.0</td>\n",
       "      <td>0.0</td>\n",
       "      <td>0.0</td>\n",
       "      <td>0.0</td>\n",
       "      <td>0.0</td>\n",
       "      <td>Kirsten bemoans Pakistan's 'poor decision-making'</td>\n",
       "      <td>Player of the Match Bumrah lauds India's bowle...</td>\n",
       "    </tr>\n",
       "    <tr>\n",
       "      <th>2</th>\n",
       "      <td>0.0</td>\n",
       "      <td>0.0</td>\n",
       "      <td>0.0</td>\n",
       "      <td>0.0</td>\n",
       "      <td>0.0</td>\n",
       "      <td>0.0</td>\n",
       "      <td>0.0</td>\n",
       "      <td>0.0</td>\n",
       "      <td>0.0</td>\n",
       "      <td>0.0</td>\n",
       "      <td>...</td>\n",
       "      <td>0.0</td>\n",
       "      <td>0.0</td>\n",
       "      <td>0.0</td>\n",
       "      <td>0.0</td>\n",
       "      <td>0.0</td>\n",
       "      <td>0.0</td>\n",
       "      <td>0.0</td>\n",
       "      <td>0.0</td>\n",
       "      <td>Rohit on Bumrah: 'He's a genius with the ball'</td>\n",
       "      <td>\"Whoever had the ball in hand wanted to make a...</td>\n",
       "    </tr>\n",
       "    <tr>\n",
       "      <th>3</th>\n",
       "      <td>0.0</td>\n",
       "      <td>0.0</td>\n",
       "      <td>0.0</td>\n",
       "      <td>0.0</td>\n",
       "      <td>0.0</td>\n",
       "      <td>0.0</td>\n",
       "      <td>0.0</td>\n",
       "      <td>0.0</td>\n",
       "      <td>0.0</td>\n",
       "      <td>0.0</td>\n",
       "      <td>...</td>\n",
       "      <td>0.0</td>\n",
       "      <td>0.0</td>\n",
       "      <td>0.0</td>\n",
       "      <td>0.0</td>\n",
       "      <td>0.0</td>\n",
       "      <td>0.0</td>\n",
       "      <td>0.0</td>\n",
       "      <td>0.0</td>\n",
       "      <td>Babar: 'We were not up to the mark'</td>\n",
       "      <td>Pakistan captain says lack of rhythm upfront w...</td>\n",
       "    </tr>\n",
       "    <tr>\n",
       "      <th>4</th>\n",
       "      <td>0.0</td>\n",
       "      <td>0.0</td>\n",
       "      <td>0.0</td>\n",
       "      <td>0.0</td>\n",
       "      <td>0.0</td>\n",
       "      <td>0.0</td>\n",
       "      <td>0.0</td>\n",
       "      <td>0.0</td>\n",
       "      <td>0.0</td>\n",
       "      <td>0.0</td>\n",
       "      <td>...</td>\n",
       "      <td>0.0</td>\n",
       "      <td>0.0</td>\n",
       "      <td>0.0</td>\n",
       "      <td>0.0</td>\n",
       "      <td>0.0</td>\n",
       "      <td>0.0</td>\n",
       "      <td>0.0</td>\n",
       "      <td>0.0</td>\n",
       "      <td>Bumrah spearheads India's defence of 119; Paki...</td>\n",
       "      <td>The trend of low scores continued in New York ...</td>\n",
       "    </tr>\n",
       "  </tbody>\n",
       "</table>\n",
       "<p>5 rows × 25086 columns</p>\n",
       "</div>"
      ],
      "text/plain": [
       "    00  000   07   09   10  100  1000  1000th  100k  100th  ...  zorzi  zouks  \\\n",
       "0  0.0  0.0  0.0  0.0  0.0  0.0   0.0     0.0   0.0    0.0  ...    0.0    0.0   \n",
       "1  0.0  0.0  0.0  0.0  0.0  0.0   0.0     0.0   0.0    0.0  ...    0.0    0.0   \n",
       "2  0.0  0.0  0.0  0.0  0.0  0.0   0.0     0.0   0.0    0.0  ...    0.0    0.0   \n",
       "3  0.0  0.0  0.0  0.0  0.0  0.0   0.0     0.0   0.0    0.0  ...    0.0    0.0   \n",
       "4  0.0  0.0  0.0  0.0  0.0  0.0   0.0     0.0   0.0    0.0  ...    0.0    0.0   \n",
       "\n",
       "   zoysa  zubayr  zulfiqar  zulu  zunaid  zyl  \\\n",
       "0    0.0     0.0       0.0   0.0     0.0  0.0   \n",
       "1    0.0     0.0       0.0   0.0     0.0  0.0   \n",
       "2    0.0     0.0       0.0   0.0     0.0  0.0   \n",
       "3    0.0     0.0       0.0   0.0     0.0  0.0   \n",
       "4    0.0     0.0       0.0   0.0     0.0  0.0   \n",
       "\n",
       "                                      original_title  \\\n",
       "0  Lamichhane lands in West Indies, will play Nep...   \n",
       "1  Kirsten bemoans Pakistan's 'poor decision-making'   \n",
       "2     Rohit on Bumrah: 'He's a genius with the ball'   \n",
       "3                Babar: 'We were not up to the mark'   \n",
       "4  Bumrah spearheads India's defence of 119; Paki...   \n",
       "\n",
       "                                    original_summary  \n",
       "0  The ICC is yet to release a statement about wh...  \n",
       "1  Player of the Match Bumrah lauds India's bowle...  \n",
       "2  \"Whoever had the ball in hand wanted to make a...  \n",
       "3  Pakistan captain says lack of rhythm upfront w...  \n",
       "4  The trend of low scores continued in New York ...  \n",
       "\n",
       "[5 rows x 25086 columns]"
      ]
     },
     "metadata": {},
     "output_type": "display_data"
    }
   ],
   "source": [
    "display(vectorized_df.head())"
   ]
  },
  {
   "cell_type": "code",
   "execution_count": 15,
   "id": "ed0dc4e9",
   "metadata": {},
   "outputs": [
    {
     "data": {
      "text/html": [
       "<div>\n",
       "<style scoped>\n",
       "    .dataframe tbody tr th:only-of-type {\n",
       "        vertical-align: middle;\n",
       "    }\n",
       "\n",
       "    .dataframe tbody tr th {\n",
       "        vertical-align: top;\n",
       "    }\n",
       "\n",
       "    .dataframe thead th {\n",
       "        text-align: right;\n",
       "    }\n",
       "</style>\n",
       "<table border=\"1\" class=\"dataframe\">\n",
       "  <thead>\n",
       "    <tr style=\"text-align: right;\">\n",
       "      <th></th>\n",
       "      <th>title</th>\n",
       "      <th>link</th>\n",
       "      <th>summary</th>\n",
       "      <th>date</th>\n",
       "    </tr>\n",
       "  </thead>\n",
       "  <tbody>\n",
       "    <tr>\n",
       "      <th>0</th>\n",
       "      <td>Lamichhane lands in West Indies, will play Nep...</td>\n",
       "      <td>https://www.espncricinfo.com/story/t20-world-c...</td>\n",
       "      <td>The ICC is yet to release a statement about wh...</td>\n",
       "      <td>10-Jun-24</td>\n",
       "    </tr>\n",
       "    <tr>\n",
       "      <th>1</th>\n",
       "      <td>Kirsten bemoans Pakistan's 'poor decision-making'</td>\n",
       "      <td>https://www.espncricinfo.com/story/icc-men-s-t...</td>\n",
       "      <td>Player of the Match Bumrah lauds India's bowle...</td>\n",
       "      <td>10-Jun-24</td>\n",
       "    </tr>\n",
       "    <tr>\n",
       "      <th>2</th>\n",
       "      <td>Rohit on Bumrah: 'He's a genius with the ball'</td>\n",
       "      <td>https://www.espncricinfo.com/story/t20-world-c...</td>\n",
       "      <td>\"Whoever had the ball in hand wanted to make a...</td>\n",
       "      <td>9-Jun-24</td>\n",
       "    </tr>\n",
       "    <tr>\n",
       "      <th>3</th>\n",
       "      <td>Babar: 'We were not up to the mark'</td>\n",
       "      <td>https://www.espncricinfo.com/story/t20-world-c...</td>\n",
       "      <td>Pakistan captain says lack of rhythm upfront w...</td>\n",
       "      <td>9-Jun-24</td>\n",
       "    </tr>\n",
       "    <tr>\n",
       "      <th>4</th>\n",
       "      <td>Bumrah spearheads India's defence of 119; Paki...</td>\n",
       "      <td>https://www.espncricinfo.com/series/icc-men-s-...</td>\n",
       "      <td>The trend of low scores continued in New York ...</td>\n",
       "      <td>9-Jun-24</td>\n",
       "    </tr>\n",
       "  </tbody>\n",
       "</table>\n",
       "</div>"
      ],
      "text/plain": [
       "                                               title  \\\n",
       "0  Lamichhane lands in West Indies, will play Nep...   \n",
       "1  Kirsten bemoans Pakistan's 'poor decision-making'   \n",
       "2     Rohit on Bumrah: 'He's a genius with the ball'   \n",
       "3                Babar: 'We were not up to the mark'   \n",
       "4  Bumrah spearheads India's defence of 119; Paki...   \n",
       "\n",
       "                                                link  \\\n",
       "0  https://www.espncricinfo.com/story/t20-world-c...   \n",
       "1  https://www.espncricinfo.com/story/icc-men-s-t...   \n",
       "2  https://www.espncricinfo.com/story/t20-world-c...   \n",
       "3  https://www.espncricinfo.com/story/t20-world-c...   \n",
       "4  https://www.espncricinfo.com/series/icc-men-s-...   \n",
       "\n",
       "                                             summary       date  \n",
       "0  The ICC is yet to release a statement about wh...  10-Jun-24  \n",
       "1  Player of the Match Bumrah lauds India's bowle...  10-Jun-24  \n",
       "2  \"Whoever had the ball in hand wanted to make a...   9-Jun-24  \n",
       "3  Pakistan captain says lack of rhythm upfront w...   9-Jun-24  \n",
       "4  The trend of low scores continued in New York ...   9-Jun-24  "
      ]
     },
     "metadata": {},
     "output_type": "display_data"
    }
   ],
   "source": [
    "display(df.head())"
   ]
  },
  {
   "cell_type": "code",
   "execution_count": null,
   "id": "a943c4e4",
   "metadata": {},
   "outputs": [],
   "source": [
    "np.save('vectorized_df.npy', vectorized_df)"
   ]
  },
  {
   "cell_type": "code",
   "execution_count": null,
   "id": "33b09762",
   "metadata": {},
   "outputs": [],
   "source": [
    "print(vectorized_df.shape)"
   ]
  },
  {
   "cell_type": "markdown",
   "id": "1880627e",
   "metadata": {},
   "source": [
    "#### Topic Modeling"
   ]
  },
  {
   "cell_type": "code",
   "execution_count": 17,
   "id": "433b13be",
   "metadata": {},
   "outputs": [],
   "source": [
    "def top_words_by_topic(text, n_topics = 10, n_top_words = 20, seed = 42):\n",
    "    # performing topic modeling and returning the most frequent words in each topic\n",
    "    \n",
    "    tf_text, features = count_vectorizer(text)\n",
    "    \n",
    "    # performing LDA\n",
    "    lda = LatentDirichletAllocation(n_components = n_topics, random_state = seed, learning_method = 'online')\n",
    "    lda.fit(tf_text)\n",
    "    topics = lda.components_\n",
    "    \n",
    "    # identifying n top words\n",
    "    top_words = []\n",
    "    for i in range(n_topics):\n",
    "        # sorting elements of the topic vector in ascending order\n",
    "        indices = topics[i].argsort()\n",
    "        # extracting n_top_words \n",
    "        top_indices = indices[-n_top_words:]\n",
    "        words = [features[j] for j in top_indices]\n",
    "        top_words.append(words)\n",
    "    \n",
    "    return top_words"
   ]
  },
  {
   "cell_type": "code",
   "execution_count": null,
   "id": "d563dc0c",
   "metadata": {},
   "outputs": [],
   "source": [
    "top_words_title = top_words_by_topic(tokenized_df['title'])\n",
    "top_words_summary = top_words_by_topic(tokenized_df['summary'])"
   ]
  },
  {
   "cell_type": "code",
   "execution_count": 20,
   "id": "c6090e0d",
   "metadata": {},
   "outputs": [
    {
     "name": "stdout",
     "output_type": "stream",
     "text": [
      "[['warner', 'want', 'root', 'put', 'cricket', 'and', 'top', 'covid', 'joe', 'season', 'ipl', 'at', 'in', 'after', 'of', 'the', 'day', 'final', 'on', 'to'], ['claim', 'plan', 'babar', 'out', 'international', 'be', 'change', 'short', 'lose', 'can', 'join', '2021', 'could', 'essex', '2020', 'from', 'call', 'injury', 'by', 'cricket'], ['title', 'up', 'all', 'take', 'round', 'chase', 'seal', 'fifty', 'star', 'ton', 'over', 'and', 'into', 'australia', 'the', 'victory', 'in', 'lead', 'win', 'to'], ['mohammad', 'knight', 'bcci', 'two', 'team', 'of', 'name', 'mumbai', 'head', 'royal', 'and', 'england', 'player', 'but', 'no', 'woman', 'in', 'coach', 'to', 'for'], ['big', 'up', 'first', 'australia', 'on', 'series', 'it', 'england', 'squad', 'set', 'indie', 'west', 'india', 'africa', 'and', 'south', 'in', 'test', 'for', 'to'], ['pant', 'ahmed', 'zimbabwe', 'ranking', 'replaces', 'among', 'work', 'injured', 'taylor', 'tim', 'shakib', 'and', 'gloucestershire', 'hit', 'sussex', 'in', 'icc', 'wicket', 'for', 'bangladesh'], ['ahead', 'tom', 'kohli', 'at', 'ipl', 'australia', 'india', 'have', 'not', 'on', 'in', 't20', 'return', 'for', 'of', 'be', 'the', 'cup', 'world', 'to'], ['ali', 'at', 'back', 'home', 'smith', 'with', 'king', 'be', 'year', 'after', 'say', 'of', 'his', 'on', 'the', 'tour', 'to', 'for', 'zealand', 'new'], ['david', 'hope', 'yorkshire', 'against', 'keep', 'and', 'off', 'five', 'win', 'rule', 'in', 'run', 'century', 'ben', 'to', 'out', 'after', 'ball', 'with', 'for'], ['up', 'look', 'series', 'after', 'four', 'ash', 'australia', 'make', 'give', 'to', 'hundred', 'odi', 'test', 'against', 'in', 'out', 'england', 'lanka', 'sri', 'of']]\n"
     ]
    }
   ],
   "source": [
    "print(top_words_title)"
   ]
  },
  {
   "cell_type": "code",
   "execution_count": 21,
   "id": "c38b3297",
   "metadata": {},
   "outputs": [
    {
     "name": "stdout",
     "output_type": "stream",
     "text": [
      "[['all', 'not', 'they', 'at', 'team', 'that', 'their', 'say', 'will', 'of', 'but', 'for', 'have', 'on', 'it', 'and', 'in', 'to', 'be', 'the'], ['team', 'series', 'player', 'india', 'his', 'cup', 'from', 'new', 'with', 'world', 'on', 'will', 'and', 'for', 'have', 'to', 'in', 'of', 'be', 'the'], ['host', 'out', 'an', 'at', 'by', 'inning', 'of', 'the', 'with', 'lead', 'first', 'back', 'after', 'wicket', 'day', 'run', 'to', 'on', 'in', 'for'], ['blast', 'and', 'fixture', 'summer', 'surrey', 'ecb', 'suffer', 'white', 'available', 'championship', 'ash', 'county', 'through', 'add', 'after', 'month', 'expect', 'for', 'england', 'tour'], ['before', 'lose', 'win', 'end', 'only', 'after', 'left', 'over', 'score', 'their', 'chase', 'the', 'and', 'with', 'up', 'wicket', 'ball', 'in', 'for', 'to'], ['home', 'ball', 'need', 'from', 'win', 'south', 'side', 'over', 'but', 'with', 'indie', 'west', 'go', 'and', 'of', 'batsman', 'three', 'to', 'in', 'the'], ['mohammad', 'fight', 'offspinner', 'fell', 'win', 'sussex', 'find', 'secure', 'australian', 'pair', 'fall', 'vain', 'performance', 'seven', 'form', 'short', 'since', 'in', 'allrounder', 'four'], ['earn', 'hasan', 'together', 'effort', 'warner', 'support', 'ali', 'khan', 'david', 'become', 'strong', 'de', 'reach', 'royal', 'would', 'way', 'while', 'help', 'also', 'and'], ['seamer', 'head', 'do', 'it', 'want', 'we', 'well', 'captain', 'of', 'that', 'year', 'and', 'coach', 'his', 'have', 'the', 'he', 'be', 'say', 'to'], ['go', '10', 'line', 'leave', 'make', 'xi', 'include', 'allrounder', 'into', 'decision', 'high', 'chance', 'of', 'could', 'which', 'century', 'day', 'just', 'half', 'test']]\n"
     ]
    }
   ],
   "source": [
    "print(top_words_summary)"
   ]
  },
  {
   "cell_type": "markdown",
   "id": "8f0d06e6",
   "metadata": {},
   "source": [
    "### 5) Recommendation - Content-Based Filtering"
   ]
  },
  {
   "cell_type": "code",
   "execution_count": 18,
   "id": "17830fa5",
   "metadata": {},
   "outputs": [],
   "source": [
    "from sklearn.metrics.pairwise import cosine_similarity"
   ]
  },
  {
   "cell_type": "code",
   "execution_count": 19,
   "id": "0c0d80b5",
   "metadata": {},
   "outputs": [
    {
     "data": {
      "text/html": [
       "<div>\n",
       "<style scoped>\n",
       "    .dataframe tbody tr th:only-of-type {\n",
       "        vertical-align: middle;\n",
       "    }\n",
       "\n",
       "    .dataframe tbody tr th {\n",
       "        vertical-align: top;\n",
       "    }\n",
       "\n",
       "    .dataframe thead th {\n",
       "        text-align: right;\n",
       "    }\n",
       "</style>\n",
       "<table border=\"1\" class=\"dataframe\">\n",
       "  <thead>\n",
       "    <tr style=\"text-align: right;\">\n",
       "      <th></th>\n",
       "      <th>00</th>\n",
       "      <th>000</th>\n",
       "      <th>07</th>\n",
       "      <th>09</th>\n",
       "      <th>10</th>\n",
       "      <th>100</th>\n",
       "      <th>1000</th>\n",
       "      <th>1000th</th>\n",
       "      <th>100k</th>\n",
       "      <th>100th</th>\n",
       "      <th>...</th>\n",
       "      <th>zone</th>\n",
       "      <th>zoom</th>\n",
       "      <th>zorzi</th>\n",
       "      <th>zouks</th>\n",
       "      <th>zoysa</th>\n",
       "      <th>zubayr</th>\n",
       "      <th>zulfiqar</th>\n",
       "      <th>zulu</th>\n",
       "      <th>zunaid</th>\n",
       "      <th>zyl</th>\n",
       "    </tr>\n",
       "  </thead>\n",
       "  <tbody>\n",
       "    <tr>\n",
       "      <th>0</th>\n",
       "      <td>0.0</td>\n",
       "      <td>0.0</td>\n",
       "      <td>0.0</td>\n",
       "      <td>0.0</td>\n",
       "      <td>0.0</td>\n",
       "      <td>0.0</td>\n",
       "      <td>0.0</td>\n",
       "      <td>0.0</td>\n",
       "      <td>0.0</td>\n",
       "      <td>0.0</td>\n",
       "      <td>...</td>\n",
       "      <td>0.0</td>\n",
       "      <td>0.0</td>\n",
       "      <td>0.0</td>\n",
       "      <td>0.0</td>\n",
       "      <td>0.0</td>\n",
       "      <td>0.0</td>\n",
       "      <td>0.0</td>\n",
       "      <td>0.0</td>\n",
       "      <td>0.0</td>\n",
       "      <td>0.0</td>\n",
       "    </tr>\n",
       "    <tr>\n",
       "      <th>1</th>\n",
       "      <td>0.0</td>\n",
       "      <td>0.0</td>\n",
       "      <td>0.0</td>\n",
       "      <td>0.0</td>\n",
       "      <td>0.0</td>\n",
       "      <td>0.0</td>\n",
       "      <td>0.0</td>\n",
       "      <td>0.0</td>\n",
       "      <td>0.0</td>\n",
       "      <td>0.0</td>\n",
       "      <td>...</td>\n",
       "      <td>0.0</td>\n",
       "      <td>0.0</td>\n",
       "      <td>0.0</td>\n",
       "      <td>0.0</td>\n",
       "      <td>0.0</td>\n",
       "      <td>0.0</td>\n",
       "      <td>0.0</td>\n",
       "      <td>0.0</td>\n",
       "      <td>0.0</td>\n",
       "      <td>0.0</td>\n",
       "    </tr>\n",
       "    <tr>\n",
       "      <th>2</th>\n",
       "      <td>0.0</td>\n",
       "      <td>0.0</td>\n",
       "      <td>0.0</td>\n",
       "      <td>0.0</td>\n",
       "      <td>0.0</td>\n",
       "      <td>0.0</td>\n",
       "      <td>0.0</td>\n",
       "      <td>0.0</td>\n",
       "      <td>0.0</td>\n",
       "      <td>0.0</td>\n",
       "      <td>...</td>\n",
       "      <td>0.0</td>\n",
       "      <td>0.0</td>\n",
       "      <td>0.0</td>\n",
       "      <td>0.0</td>\n",
       "      <td>0.0</td>\n",
       "      <td>0.0</td>\n",
       "      <td>0.0</td>\n",
       "      <td>0.0</td>\n",
       "      <td>0.0</td>\n",
       "      <td>0.0</td>\n",
       "    </tr>\n",
       "    <tr>\n",
       "      <th>3</th>\n",
       "      <td>0.0</td>\n",
       "      <td>0.0</td>\n",
       "      <td>0.0</td>\n",
       "      <td>0.0</td>\n",
       "      <td>0.0</td>\n",
       "      <td>0.0</td>\n",
       "      <td>0.0</td>\n",
       "      <td>0.0</td>\n",
       "      <td>0.0</td>\n",
       "      <td>0.0</td>\n",
       "      <td>...</td>\n",
       "      <td>0.0</td>\n",
       "      <td>0.0</td>\n",
       "      <td>0.0</td>\n",
       "      <td>0.0</td>\n",
       "      <td>0.0</td>\n",
       "      <td>0.0</td>\n",
       "      <td>0.0</td>\n",
       "      <td>0.0</td>\n",
       "      <td>0.0</td>\n",
       "      <td>0.0</td>\n",
       "    </tr>\n",
       "    <tr>\n",
       "      <th>4</th>\n",
       "      <td>0.0</td>\n",
       "      <td>0.0</td>\n",
       "      <td>0.0</td>\n",
       "      <td>0.0</td>\n",
       "      <td>0.0</td>\n",
       "      <td>0.0</td>\n",
       "      <td>0.0</td>\n",
       "      <td>0.0</td>\n",
       "      <td>0.0</td>\n",
       "      <td>0.0</td>\n",
       "      <td>...</td>\n",
       "      <td>0.0</td>\n",
       "      <td>0.0</td>\n",
       "      <td>0.0</td>\n",
       "      <td>0.0</td>\n",
       "      <td>0.0</td>\n",
       "      <td>0.0</td>\n",
       "      <td>0.0</td>\n",
       "      <td>0.0</td>\n",
       "      <td>0.0</td>\n",
       "      <td>0.0</td>\n",
       "    </tr>\n",
       "  </tbody>\n",
       "</table>\n",
       "<p>5 rows × 25082 columns</p>\n",
       "</div>"
      ],
      "text/plain": [
       "    00  000   07   09   10  100  1000  1000th  100k  100th  ...  zone  zoom  \\\n",
       "0  0.0  0.0  0.0  0.0  0.0  0.0   0.0     0.0   0.0    0.0  ...   0.0   0.0   \n",
       "1  0.0  0.0  0.0  0.0  0.0  0.0   0.0     0.0   0.0    0.0  ...   0.0   0.0   \n",
       "2  0.0  0.0  0.0  0.0  0.0  0.0   0.0     0.0   0.0    0.0  ...   0.0   0.0   \n",
       "3  0.0  0.0  0.0  0.0  0.0  0.0   0.0     0.0   0.0    0.0  ...   0.0   0.0   \n",
       "4  0.0  0.0  0.0  0.0  0.0  0.0   0.0     0.0   0.0    0.0  ...   0.0   0.0   \n",
       "\n",
       "   zorzi  zouks  zoysa  zubayr  zulfiqar  zulu  zunaid  zyl  \n",
       "0    0.0    0.0    0.0     0.0       0.0   0.0     0.0  0.0  \n",
       "1    0.0    0.0    0.0     0.0       0.0   0.0     0.0  0.0  \n",
       "2    0.0    0.0    0.0     0.0       0.0   0.0     0.0  0.0  \n",
       "3    0.0    0.0    0.0     0.0       0.0   0.0     0.0  0.0  \n",
       "4    0.0    0.0    0.0     0.0       0.0   0.0     0.0  0.0  \n",
       "\n",
       "[5 rows x 25082 columns]"
      ]
     },
     "execution_count": 19,
     "metadata": {},
     "output_type": "execute_result"
    }
   ],
   "source": [
    "# computing cosine similarity\n",
    "numerical_df = vectorized_df.drop(['link', 'original_title', 'original_summary'], axis = 1)\n",
    "numerical_df.head()"
   ]
  },
  {
   "cell_type": "code",
   "execution_count": 20,
   "id": "e97b1649",
   "metadata": {},
   "outputs": [],
   "source": [
    "# caching for the future\n",
    "np.save('numerical_df.npy', numerical_df)"
   ]
  },
  {
   "cell_type": "code",
   "execution_count": 21,
   "id": "5275babc",
   "metadata": {},
   "outputs": [],
   "source": [
    "cosine_sim = cosine_similarity(numerical_df)"
   ]
  },
  {
   "cell_type": "code",
   "execution_count": 22,
   "id": "2ac76168",
   "metadata": {},
   "outputs": [],
   "source": [
    "# caching for the future\n",
    "np.save('cosine_sim.npy', cosine_sim)"
   ]
  },
  {
   "cell_type": "code",
   "execution_count": 16,
   "id": "6f28c214",
   "metadata": {},
   "outputs": [],
   "source": [
    "import numpy as np\n",
    "cosine_sim = np.load('cosine_sim.npy')"
   ]
  },
  {
   "cell_type": "code",
   "execution_count": 25,
   "id": "cf297ce2",
   "metadata": {},
   "outputs": [],
   "source": [
    "numerical_df = np.load('numerical_df.npy')"
   ]
  },
  {
   "cell_type": "markdown",
   "id": "c7d31884",
   "metadata": {},
   "source": [
    "#### Generating Recommendations"
   ]
  },
  {
   "cell_type": "code",
   "execution_count": 44,
   "id": "e8ef394d",
   "metadata": {},
   "outputs": [],
   "source": [
    "def get_recommendations(article_id, cosine_sim = cosine_sim, top_n = 5):\n",
    "    scores = list(enumerate(cosine_sim[article_id]))\n",
    "    scores = sorted(scores, key = lambda x: x[1], reverse = True)\n",
    "    scores = scores[1 : top_n + 1]\n",
    "    article_indices = [i[0] for i in scores]\n",
    "    return article_indices"
   ]
  },
  {
   "cell_type": "code",
   "execution_count": 42,
   "id": "3f217fde",
   "metadata": {},
   "outputs": [
    {
     "name": "stdout",
     "output_type": "stream",
     "text": [
      "[2541, 6135, 3964, 26239, 17781]\n"
     ]
    }
   ],
   "source": [
    "rec = get_recommendations(4212)\n",
    "print(rec)"
   ]
  },
  {
   "cell_type": "code",
   "execution_count": 43,
   "id": "ab151c30",
   "metadata": {},
   "outputs": [
    {
     "data": {
      "text/plain": [
       "2541     Harris and Bancroft audition for Australia's o...\n",
       "6135     Renshaw's chance to push Ashes claims, eyes al...\n",
       "3964     An opportunity for Cameron Bancroft to improve...\n",
       "26239      Bancroft, Labuschagne get chances for Ashes bid\n",
       "17781        David Warner returns to New South Wales squad\n",
       "Name: title, dtype: object"
      ]
     },
     "metadata": {},
     "output_type": "display_data"
    }
   ],
   "source": [
    "rec_titles = df.loc[rec, 'title']\n",
    "display(rec_titles)"
   ]
  },
  {
   "cell_type": "code",
   "execution_count": 41,
   "id": "40d32ff6",
   "metadata": {},
   "outputs": [
    {
     "data": {
      "text/plain": [
       "\"Bancroft gets chance to audition for Warner's position\""
      ]
     },
     "metadata": {},
     "output_type": "display_data"
    }
   ],
   "source": [
    "display(df.loc[4212, 'title'])"
   ]
  },
  {
   "cell_type": "code",
   "execution_count": 46,
   "id": "50a455cf",
   "metadata": {},
   "outputs": [
    {
     "name": "stdout",
     "output_type": "stream",
     "text": [
      "0\n",
      "100\n",
      "200\n",
      "300\n",
      "400\n",
      "500\n",
      "600\n",
      "700\n",
      "800\n",
      "900\n",
      "1000\n",
      "1100\n",
      "1200\n",
      "1300\n",
      "1400\n",
      "1500\n",
      "1600\n",
      "1700\n",
      "1800\n",
      "1900\n",
      "2000\n",
      "2100\n",
      "2200\n",
      "2300\n",
      "2400\n",
      "2500\n",
      "2600\n",
      "2700\n",
      "2800\n",
      "2900\n",
      "3000\n",
      "3100\n",
      "3200\n",
      "3300\n",
      "3400\n",
      "3500\n",
      "3600\n",
      "3700\n",
      "3800\n",
      "3900\n",
      "4000\n",
      "4100\n",
      "4200\n",
      "4300\n",
      "4400\n",
      "4500\n",
      "4600\n",
      "4700\n",
      "4800\n",
      "4900\n",
      "5000\n",
      "5100\n",
      "5200\n",
      "5300\n",
      "5400\n",
      "5500\n",
      "5600\n",
      "5700\n",
      "5800\n",
      "5900\n",
      "6000\n",
      "6100\n",
      "6200\n",
      "6300\n",
      "6400\n",
      "6500\n",
      "6600\n",
      "6700\n",
      "6800\n",
      "6900\n",
      "7000\n",
      "7100\n",
      "7200\n",
      "7300\n",
      "7400\n",
      "7500\n",
      "7600\n",
      "7700\n",
      "7800\n",
      "7900\n",
      "8000\n",
      "8100\n",
      "8200\n",
      "8300\n",
      "8400\n",
      "8500\n",
      "8600\n",
      "8700\n",
      "8800\n",
      "8900\n",
      "9000\n",
      "9100\n",
      "9200\n",
      "9300\n",
      "9400\n",
      "9500\n",
      "9600\n",
      "9700\n",
      "9800\n",
      "9900\n",
      "10000\n",
      "10100\n",
      "10200\n",
      "10300\n",
      "10400\n",
      "10500\n",
      "10600\n",
      "10700\n",
      "10800\n",
      "10900\n",
      "11000\n",
      "11100\n",
      "11200\n",
      "11300\n",
      "11400\n",
      "11500\n",
      "11600\n",
      "11700\n",
      "11800\n",
      "11900\n",
      "12000\n",
      "12100\n",
      "12200\n",
      "12300\n",
      "12400\n",
      "12500\n",
      "12600\n",
      "12700\n",
      "12800\n",
      "12900\n",
      "13000\n",
      "13100\n",
      "13200\n",
      "13300\n",
      "13400\n",
      "13500\n",
      "13600\n",
      "13700\n",
      "13800\n",
      "13900\n",
      "14000\n",
      "14100\n",
      "14200\n",
      "14300\n",
      "14400\n",
      "14500\n",
      "14600\n",
      "14700\n",
      "14800\n",
      "14900\n",
      "15000\n",
      "15100\n",
      "15200\n",
      "15300\n",
      "15400\n",
      "15500\n",
      "15600\n",
      "15700\n",
      "15800\n",
      "15900\n",
      "16000\n",
      "16100\n",
      "16200\n",
      "16300\n",
      "16400\n",
      "16500\n",
      "16600\n",
      "16700\n",
      "16800\n",
      "16900\n",
      "17000\n",
      "17100\n",
      "17200\n",
      "17300\n",
      "17400\n",
      "17500\n",
      "17600\n",
      "17700\n",
      "17800\n",
      "17900\n",
      "18000\n",
      "18100\n",
      "18200\n",
      "18300\n",
      "18400\n",
      "18500\n",
      "18600\n",
      "18700\n",
      "18800\n",
      "18900\n",
      "19000\n",
      "19100\n",
      "19200\n",
      "19300\n",
      "19400\n",
      "19500\n",
      "19600\n",
      "19700\n",
      "19800\n",
      "19900\n",
      "20000\n",
      "20100\n",
      "20200\n",
      "20300\n",
      "20400\n",
      "20500\n",
      "20600\n",
      "20700\n",
      "20800\n",
      "20900\n",
      "21000\n",
      "21100\n",
      "21200\n",
      "21300\n",
      "21400\n",
      "21500\n",
      "21600\n",
      "21700\n",
      "21800\n",
      "21900\n",
      "22000\n",
      "22100\n",
      "22200\n",
      "22300\n",
      "22400\n",
      "22500\n",
      "22600\n",
      "22700\n",
      "22800\n",
      "22900\n",
      "23000\n",
      "23100\n",
      "23200\n",
      "23300\n",
      "23400\n",
      "23500\n",
      "23600\n",
      "23700\n",
      "23800\n",
      "23900\n",
      "24000\n",
      "24100\n",
      "24200\n",
      "24300\n",
      "24400\n",
      "24500\n",
      "24600\n",
      "24700\n",
      "24800\n",
      "24900\n",
      "25000\n",
      "25100\n",
      "25200\n",
      "25300\n",
      "25400\n",
      "25500\n",
      "25600\n",
      "25700\n",
      "25800\n",
      "25900\n",
      "26000\n",
      "26100\n",
      "26200\n",
      "26300\n",
      "26400\n",
      "26500\n",
      "26600\n",
      "26700\n",
      "26800\n",
      "26900\n",
      "27000\n",
      "27100\n",
      "27200\n",
      "27300\n",
      "27400\n",
      "27500\n",
      "27600\n",
      "27700\n",
      "27800\n",
      "27900\n",
      "28000\n",
      "28100\n",
      "28200\n",
      "28300\n",
      "28400\n",
      "28500\n",
      "28600\n",
      "28700\n",
      "28800\n",
      "28900\n",
      "29000\n",
      "29100\n",
      "29200\n",
      "29300\n",
      "29400\n",
      "29500\n",
      "29600\n",
      "29700\n",
      "29800\n",
      "29900\n"
     ]
    }
   ],
   "source": [
    "# caching the top 20 articles for each article\n",
    "n = cosine_sim.shape[0]\n",
    "top_20_recs = np.zeros((n, 20), dtype = int)\n",
    "\n",
    "for i in range(n):\n",
    "    if i % 100 == 0:\n",
    "        print(i)\n",
    "    top_20_recs[i] = get_recommendations(i, top_n = 20)"
   ]
  },
  {
   "cell_type": "code",
   "execution_count": 47,
   "id": "4c7656a9",
   "metadata": {},
   "outputs": [
    {
     "name": "stdout",
     "output_type": "stream",
     "text": [
      "[[  178 22940  8923  6777   977   299 13111  6829 24205  6536 27497   626\n",
      "  22340 19207  3649  4133 16253  4970 20822  6591]\n",
      " [27980   419  6367 18316 27327  5512 17469 19643 25006 12951  8209   678\n",
      "  27422    22 25817 18116  7847 12553 13608 13560]\n",
      " [21203 19178  7234  3298 28259  2030 26575 27844 27360  8349  7993 19574\n",
      "   8548 13814 26848  2019  8507  1744 24044 27195]\n",
      " [   58 29123 22922  7732  4263 27737  7544  2777  2750  3510 17582  2837\n",
      "    850 29238  7320  9780 16504  3278  7993 28762]\n",
      " [ 5494 24622  6507 27612  4866  3045  3063 14639 24227 13809  2790  6825\n",
      "  28464  1088  6522   169 21209  3044  7066 11778]]\n"
     ]
    }
   ],
   "source": [
    "print(top_20_recs[:5])"
   ]
  },
  {
   "cell_type": "code",
   "execution_count": 48,
   "id": "b4ac5b7f",
   "metadata": {},
   "outputs": [],
   "source": [
    "np.save('top_20_recommendations.npy', top_20_recs)"
   ]
  },
  {
   "cell_type": "code",
   "execution_count": null,
   "id": "a9323a15",
   "metadata": {},
   "outputs": [],
   "source": []
  },
  {
   "cell_type": "code",
   "execution_count": null,
   "id": "e27a9a7f",
   "metadata": {},
   "outputs": [],
   "source": []
  }
 ],
 "metadata": {
  "kernelspec": {
   "display_name": "Python 3 (ipykernel)",
   "language": "python",
   "name": "python3"
  },
  "language_info": {
   "codemirror_mode": {
    "name": "ipython",
    "version": 3
   },
   "file_extension": ".py",
   "mimetype": "text/x-python",
   "name": "python",
   "nbconvert_exporter": "python",
   "pygments_lexer": "ipython3",
   "version": "3.9.18"
  }
 },
 "nbformat": 4,
 "nbformat_minor": 5
}
